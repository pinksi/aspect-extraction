{
 "cells": [
  {
   "cell_type": "markdown",
   "id": "b9e14722-0c54-4fad-861e-5e83011cb17d",
   "metadata": {},
   "source": [
    "#### Aspect Extraction on Restaurant reviews"
   ]
  },
  {
   "cell_type": "code",
   "execution_count": 1,
   "id": "b49b7fcf-cf00-46ea-b8b3-6ea56edef9df",
   "metadata": {},
   "outputs": [],
   "source": [
    "%load_ext autoreload\n",
    "%autoreload 2"
   ]
  },
  {
   "cell_type": "code",
   "execution_count": 2,
   "id": "bc684c92-1ee3-4f57-b9f8-8f019f5263e1",
   "metadata": {},
   "outputs": [],
   "source": [
    "import pandas as pd\n",
    "import spacy"
   ]
  },
  {
   "cell_type": "code",
   "execution_count": 3,
   "id": "7fc54b96-197f-4772-9aec-19ba677322cd",
   "metadata": {},
   "outputs": [],
   "source": [
    "sp = spacy.load(\"en_core_web_sm\")"
   ]
  },
  {
   "cell_type": "code",
   "execution_count": 16,
   "id": "82af9e7d-b0c6-44a9-8981-0f4625c44226",
   "metadata": {},
   "outputs": [],
   "source": [
    "# df = pd.read_csv(\"Datafiniti_Amazon_Consumer_Reviews_of_Amazon_Products.csv\")\n",
    "df = pd.read_csv(\"datasets/Restaurant_reviews/Restaurants_Train_v2.csv\")"
   ]
  },
  {
   "cell_type": "code",
   "execution_count": 17,
   "id": "242a98e5-c20d-4d21-8e0a-1626060e0897",
   "metadata": {},
   "outputs": [
    {
     "data": {
      "text/plain": [
       "Index(['id', 'Sentence', 'Aspect Term', 'polarity', 'from', 'to'], dtype='object')"
      ]
     },
     "execution_count": 17,
     "metadata": {},
     "output_type": "execute_result"
    }
   ],
   "source": [
    "df.columns"
   ]
  },
  {
   "cell_type": "code",
   "execution_count": 18,
   "id": "d7cd7a50-7766-4271-8347-8b972e0d49e4",
   "metadata": {},
   "outputs": [
    {
     "data": {
      "text/html": [
       "<div>\n",
       "<style scoped>\n",
       "    .dataframe tbody tr th:only-of-type {\n",
       "        vertical-align: middle;\n",
       "    }\n",
       "\n",
       "    .dataframe tbody tr th {\n",
       "        vertical-align: top;\n",
       "    }\n",
       "\n",
       "    .dataframe thead th {\n",
       "        text-align: right;\n",
       "    }\n",
       "</style>\n",
       "<table border=\"1\" class=\"dataframe\">\n",
       "  <thead>\n",
       "    <tr style=\"text-align: right;\">\n",
       "      <th></th>\n",
       "      <th>id</th>\n",
       "      <th>Sentence</th>\n",
       "      <th>Aspect Term</th>\n",
       "      <th>polarity</th>\n",
       "      <th>from</th>\n",
       "      <th>to</th>\n",
       "    </tr>\n",
       "  </thead>\n",
       "  <tbody>\n",
       "    <tr>\n",
       "      <th>0</th>\n",
       "      <td>3121</td>\n",
       "      <td>But the staff was so horrible to us.</td>\n",
       "      <td>staff</td>\n",
       "      <td>negative</td>\n",
       "      <td>8</td>\n",
       "      <td>13</td>\n",
       "    </tr>\n",
       "    <tr>\n",
       "      <th>1</th>\n",
       "      <td>2777</td>\n",
       "      <td>To be completely fair, the only redeeming fact...</td>\n",
       "      <td>food</td>\n",
       "      <td>positive</td>\n",
       "      <td>57</td>\n",
       "      <td>61</td>\n",
       "    </tr>\n",
       "    <tr>\n",
       "      <th>2</th>\n",
       "      <td>1634</td>\n",
       "      <td>The food is uniformly exceptional, with a very...</td>\n",
       "      <td>food</td>\n",
       "      <td>positive</td>\n",
       "      <td>4</td>\n",
       "      <td>8</td>\n",
       "    </tr>\n",
       "    <tr>\n",
       "      <th>3</th>\n",
       "      <td>1634</td>\n",
       "      <td>The food is uniformly exceptional, with a very...</td>\n",
       "      <td>kitchen</td>\n",
       "      <td>positive</td>\n",
       "      <td>55</td>\n",
       "      <td>62</td>\n",
       "    </tr>\n",
       "    <tr>\n",
       "      <th>4</th>\n",
       "      <td>1634</td>\n",
       "      <td>The food is uniformly exceptional, with a very...</td>\n",
       "      <td>menu</td>\n",
       "      <td>neutral</td>\n",
       "      <td>141</td>\n",
       "      <td>145</td>\n",
       "    </tr>\n",
       "  </tbody>\n",
       "</table>\n",
       "</div>"
      ],
      "text/plain": [
       "     id                                           Sentence Aspect Term  \\\n",
       "0  3121               But the staff was so horrible to us.       staff   \n",
       "1  2777  To be completely fair, the only redeeming fact...        food   \n",
       "2  1634  The food is uniformly exceptional, with a very...        food   \n",
       "3  1634  The food is uniformly exceptional, with a very...     kitchen   \n",
       "4  1634  The food is uniformly exceptional, with a very...        menu   \n",
       "\n",
       "   polarity  from   to  \n",
       "0  negative     8   13  \n",
       "1  positive    57   61  \n",
       "2  positive     4    8  \n",
       "3  positive    55   62  \n",
       "4   neutral   141  145  "
      ]
     },
     "execution_count": 18,
     "metadata": {},
     "output_type": "execute_result"
    }
   ],
   "source": [
    "df.head()"
   ]
  },
  {
   "cell_type": "code",
   "execution_count": 19,
   "id": "706a84c6-29f7-4044-a9ed-ca1fb0604080",
   "metadata": {},
   "outputs": [],
   "source": [
    "sentences = list(df[\"Sentence\"])"
   ]
  },
  {
   "cell_type": "code",
   "execution_count": 20,
   "id": "cee9d6fb-532c-489b-bcce-b4c747d440b4",
   "metadata": {},
   "outputs": [
    {
     "name": "stdout",
     "output_type": "stream",
     "text": [
      "But the staff was so horrible to us. -> staff\n",
      "To be completely fair, the only redeeming factor was the food, which was above average, but couldn't make up for all the other deficiencies of Teodora. -> factor\n",
      "The food is uniformly exceptional, with a very capable kitchen which will proudly whip up whatever you feel like eating, whether it's on the menu or not. -> food\n",
      "The food is uniformly exceptional, with a very capable kitchen which will proudly whip up whatever you feel like eating, whether it's on the menu or not. -> food\n",
      "The food is uniformly exceptional, with a very capable kitchen which will proudly whip up whatever you feel like eating, whether it's on the menu or not. -> food\n",
      "Not only was the food outstanding, but the little 'perks' were great. -> perks\n",
      "Not only was the food outstanding, but the little 'perks' were great. -> perks\n",
      "Our agreed favorite is the orrechiete with sausage and chicken (usually the waiters are kind enough to split the dish in half so you get to sample both meats). -> waiters\n",
      "Our agreed favorite is the orrechiete with sausage and chicken (usually the waiters are kind enough to split the dish in half so you get to sample both meats). -> waiters\n",
      "Our agreed favorite is the orrechiete with sausage and chicken (usually the waiters are kind enough to split the dish in half so you get to sample both meats). -> waiters\n"
     ]
    }
   ],
   "source": [
    "extracted_aspects = []\n",
    "\n",
    "for sent in sentences[:10]:\n",
    "    descriptive_item = ''\n",
    "    target = ''\n",
    "    for token in sp(sent):\n",
    "        # print(f\"sent: {sent} and token: {token}\")\n",
    "        if token.dep_ == 'nsubj' and token.pos_ == 'NOUN':\n",
    "            target = token.text\n",
    "        # if token.pos_ == 'ADJ':\n",
    "        #     added_terms = ''\n",
    "        #     for mini_token in token.children:\n",
    "        #         if mini_token.pos_ != 'ADV':\n",
    "        #             continue\n",
    "        #         added_terms += mini_token.text + ' '\n",
    "        #     descriptive_item = added_terms + token.text\n",
    "    print(sent, \"->\", target)\n",
    "    # extracted_aspects.append({\"aspect\": target, \"description\": descriptive_item})\n",
    "# print(f\"aspects: {extracted_aspects}\")"
   ]
  },
  {
   "cell_type": "markdown",
   "id": "7999c7d3-cafd-4149-850b-7bd493f5445e",
   "metadata": {},
   "source": [
    "#### Trying out PyABSA"
   ]
  },
  {
   "cell_type": "code",
   "execution_count": null,
   "id": "255b335c-9a23-4c9a-b194-5cdeb63aef4f",
   "metadata": {},
   "outputs": [],
   "source": []
  }
 ],
 "metadata": {
  "kernelspec": {
   "display_name": "Python 3 (ipykernel)",
   "language": "python",
   "name": "python3"
  },
  "language_info": {
   "codemirror_mode": {
    "name": "ipython",
    "version": 3
   },
   "file_extension": ".py",
   "mimetype": "text/x-python",
   "name": "python",
   "nbconvert_exporter": "python",
   "pygments_lexer": "ipython3",
   "version": "3.8.2"
  }
 },
 "nbformat": 4,
 "nbformat_minor": 5
}
