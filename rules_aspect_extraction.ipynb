{
 "cells": [
  {
   "cell_type": "code",
   "execution_count": 1,
   "id": "0cdf7110-aedf-45e7-adc0-4d1e35844da6",
   "metadata": {},
   "outputs": [],
   "source": [
    "import os\n",
    "import sys\n",
    "import spacy\n",
    "import pandas as pd\n",
    "\n",
    "from tqdm import tqdm"
   ]
  },
  {
   "cell_type": "code",
   "execution_count": 2,
   "id": "74d49272-9a06-4582-ac64-846de27efdbb",
   "metadata": {},
   "outputs": [
    {
     "name": "stdout",
     "output_type": "stream",
     "text": [
      "     id                                           Sentence Aspect Term  \\\n",
      "0  3121               But the staff was so horrible to us.       staff   \n",
      "1  2777  To be completely fair, the only redeeming fact...        food   \n",
      "2  1634  The food is uniformly exceptional, with a very...        food   \n",
      "3  1634  The food is uniformly exceptional, with a very...     kitchen   \n",
      "4  1634  The food is uniformly exceptional, with a very...        menu   \n",
      "\n",
      "   polarity  from   to  \n",
      "0  negative     8   13  \n",
      "1  positive    57   61  \n",
      "2  positive     4    8  \n",
      "3  positive    55   62  \n",
      "4   neutral   141  145  \n"
     ]
    },
    {
     "data": {
      "text/html": [
       "<div>\n",
       "<style scoped>\n",
       "    .dataframe tbody tr th:only-of-type {\n",
       "        vertical-align: middle;\n",
       "    }\n",
       "\n",
       "    .dataframe tbody tr th {\n",
       "        vertical-align: top;\n",
       "    }\n",
       "\n",
       "    .dataframe thead th {\n",
       "        text-align: right;\n",
       "    }\n",
       "</style>\n",
       "<table border=\"1\" class=\"dataframe\">\n",
       "  <thead>\n",
       "    <tr style=\"text-align: right;\">\n",
       "      <th></th>\n",
       "      <th>id</th>\n",
       "      <th>Sentence</th>\n",
       "      <th>Aspect Term</th>\n",
       "    </tr>\n",
       "  </thead>\n",
       "  <tbody>\n",
       "    <tr>\n",
       "      <th>0</th>\n",
       "      <td>3121</td>\n",
       "      <td>But the staff was so horrible to us.</td>\n",
       "      <td>staff</td>\n",
       "    </tr>\n",
       "    <tr>\n",
       "      <th>1</th>\n",
       "      <td>2777</td>\n",
       "      <td>To be completely fair, the only redeeming fact...</td>\n",
       "      <td>food</td>\n",
       "    </tr>\n",
       "    <tr>\n",
       "      <th>2</th>\n",
       "      <td>1634</td>\n",
       "      <td>The food is uniformly exceptional, with a very...</td>\n",
       "      <td>food</td>\n",
       "    </tr>\n",
       "    <tr>\n",
       "      <th>3</th>\n",
       "      <td>1634</td>\n",
       "      <td>The food is uniformly exceptional, with a very...</td>\n",
       "      <td>kitchen</td>\n",
       "    </tr>\n",
       "    <tr>\n",
       "      <th>4</th>\n",
       "      <td>1634</td>\n",
       "      <td>The food is uniformly exceptional, with a very...</td>\n",
       "      <td>menu</td>\n",
       "    </tr>\n",
       "  </tbody>\n",
       "</table>\n",
       "</div>"
      ],
      "text/plain": [
       "     id                                           Sentence Aspect Term\n",
       "0  3121               But the staff was so horrible to us.       staff\n",
       "1  2777  To be completely fair, the only redeeming fact...        food\n",
       "2  1634  The food is uniformly exceptional, with a very...        food\n",
       "3  1634  The food is uniformly exceptional, with a very...     kitchen\n",
       "4  1634  The food is uniformly exceptional, with a very...        menu"
      ]
     },
     "execution_count": 2,
     "metadata": {},
     "output_type": "execute_result"
    }
   ],
   "source": [
    "file_path = \"datasets/Restaurant_reviews/Restaurants_Train_v2.csv\"\n",
    "# raw_data = pd.read_table(file_path, error_bad_lines=False, nrows=100)\n",
    "raw_data = pd.read_csv(file_path)\n",
    "print(raw_data.head())\n",
    "reviews = raw_data[[\"id\", \"Sentence\", \"Aspect Term\"]]\n",
    "reviews.head()"
   ]
  },
  {
   "cell_type": "code",
   "execution_count": 3,
   "id": "c6e50069-aa67-4540-8cb2-0e63a71afc7f",
   "metadata": {},
   "outputs": [
    {
     "name": "stderr",
     "output_type": "stream",
     "text": [
      "/var/folders/mj/qz0vbkcs717cq8rm4j5x5q200000gn/T/ipykernel_38556/4023342088.py:1: SettingWithCopyWarning: \n",
      "A value is trying to be set on a copy of a slice from a DataFrame\n",
      "\n",
      "See the caveats in the documentation: https://pandas.pydata.org/pandas-docs/stable/user_guide/indexing.html#returning-a-view-versus-a-copy\n",
      "  reviews.rename(columns={\"id\": \"id\", \"Sentence\": \"text\", \"Aspect Term\": \"original_aspects\"}, inplace=True)\n"
     ]
    },
    {
     "data": {
      "text/plain": [
       "Index(['id', 'text', 'original_aspects'], dtype='object')"
      ]
     },
     "execution_count": 3,
     "metadata": {},
     "output_type": "execute_result"
    }
   ],
   "source": [
    "reviews.rename(columns={\"id\": \"id\", \"Sentence\": \"text\", \"Aspect Term\": \"original_aspects\"}, inplace=True)\n",
    "reviews.columns"
   ]
  },
  {
   "cell_type": "code",
   "execution_count": 4,
   "id": "b5f76fd5-da66-43b2-9a9e-3a60499a5f5a",
   "metadata": {},
   "outputs": [],
   "source": [
    "# list all the aspects of a sentence in one column\n",
    "results = {}\n",
    "for row in reviews.itertuples():\n",
    "    if row.text in results:\n",
    "        results[row.text].append(row.original_aspects)\n",
    "    else:\n",
    "        results[row.text] = [row.original_aspects]"
   ]
  },
  {
   "cell_type": "code",
   "execution_count": 5,
   "id": "8bad5c78-955c-4398-b11b-037559d7b67b",
   "metadata": {},
   "outputs": [],
   "source": [
    "# proper formatting\n",
    "all_reviews = []\n",
    "for key, val in results.items():\n",
    "    all_reviews.append({\"review\": key, \"actual_aspects\": list(set(val))}) # getting unique actual aspects"
   ]
  },
  {
   "cell_type": "code",
   "execution_count": 6,
   "id": "22ddb3e0-0a5c-4eac-92e2-256cb9ca81b8",
   "metadata": {},
   "outputs": [
    {
     "data": {
      "text/plain": [
       "{'review': 'But the staff was so horrible to us.', 'actual_aspects': ['staff']}"
      ]
     },
     "execution_count": 6,
     "metadata": {},
     "output_type": "execute_result"
    }
   ],
   "source": [
    "all_reviews[0]"
   ]
  },
  {
   "cell_type": "code",
   "execution_count": 7,
   "id": "47609918-f875-4189-a225-dd7ad45c77f1",
   "metadata": {},
   "outputs": [],
   "source": [
    "# !python3 -m spacy download en_core_web_lg"
   ]
  },
  {
   "cell_type": "code",
   "execution_count": 8,
   "id": "63afe8e1-8a69-429b-b73b-70173f291e2d",
   "metadata": {},
   "outputs": [],
   "source": [
    "nlp = spacy.load(\"en_core_web_lg\")"
   ]
  },
  {
   "cell_type": "code",
   "execution_count": 9,
   "id": "72fd8668-28f0-4ace-8cbc-abbdde68fce1",
   "metadata": {},
   "outputs": [],
   "source": [
    "def apply_extraction(review_body, nlp):\n",
    "    # review_body = row[\"Sentence\"]\n",
    "    # review_id = row[\"id\"]\n",
    "    \n",
    "    doc = nlp(review_body)\n",
    "    \n",
    "    # rule1\n",
    "    r1_pairs = []\n",
    "    for token in doc:\n",
    "        if token.dep_ == \"amod\":\n",
    "            r1_pairs.append((token.head.text, token.text))\n",
    "            \n",
    "    # rule2\n",
    "    r2_pairs = []\n",
    "    for token in doc:\n",
    "        A = \"\"\n",
    "        M = \"\"\n",
    "        for child in token.children:\n",
    "            if child.dep_ == \"nsubj\":\n",
    "                A = child.text\n",
    "                \n",
    "            if not M and child.dep_ == \"dobj\":\n",
    "                M = child.text\n",
    "            \n",
    "            if not M and child.dep_ == \"acomp\":\n",
    "                M = child.text\n",
    "        if A and M:\n",
    "            r2_pairs.append((A, M))\n",
    "            \n",
    "    # rule3\n",
    "    r3_pairs = []\n",
    "    prev_token_pos = \"\"\n",
    "    for token in doc:\n",
    "        # print(token, [i for i in token.children])\n",
    "        A = \"\"\n",
    "        M = \"\"\n",
    "        for child in token.children:\n",
    "            if token.pos_ == \"NOUN\" and child.dep_ == \"prep\":\n",
    "                A = token.text\n",
    "            # if prev_token_pos != \"NOUN\" and token.dep_ ==\"prep\" and token.pos_ == \"ADP\" and child.dep_ == \"pobj\":\n",
    "            #     A = child.text\n",
    "        if A and not M:\n",
    "            r3_pairs.append((A, M))\n",
    "        prev_token_pos = token.pos_\n",
    "\n",
    "            \n",
    "    # rule4\n",
    "    r4_pairs = []\n",
    "    for token in doc:\n",
    "        children = token.children\n",
    "        A = \"\"\n",
    "        M = \"\"\n",
    "        for child in children:\n",
    "            if child.dep_ == \"nsubjpass\":\n",
    "                A = child.text\n",
    "                \n",
    "            if child.dep_ == \"advmod\":\n",
    "                M = child.text\n",
    "        \n",
    "        if A and M:\n",
    "            r4_pairs.append((A, M))\n",
    "            \n",
    "    # rule5\n",
    "    r5_pairs = []\n",
    "    for token in doc:\n",
    "        children = token.children\n",
    "        A = \"\"\n",
    "        M = \"\"\n",
    "        for child in children:\n",
    "            if child.dep_ == \"nsubj\":\n",
    "                A = child.text\n",
    "                \n",
    "            if child.dep_ == \"cop\":\n",
    "                M = child.text\n",
    "        \n",
    "        if A and M:\n",
    "            r5_pairs.append((A, token.text))\n",
    "            \n",
    "    # aspects = []\n",
    "    aspects_pairs = r1_pairs + r2_pairs + r3_pairs + r4_pairs + r5_pairs\n",
    "    # aspect_dict = {\"review_id\": review_id, \"review_body\": review_body, \"aspect_pairs\": aspects}\n",
    "    return aspects_pairs"
   ]
  },
  {
   "cell_type": "code",
   "execution_count": 10,
   "id": "e6f8741b-3984-4042-b59d-f183af0f1498",
   "metadata": {},
   "outputs": [
    {
     "data": {
      "text/plain": [
       "({'review': 'But the staff was so horrible to us.',\n",
       "  'actual_aspects': ['staff']},\n",
       " 2019)"
      ]
     },
     "execution_count": 10,
     "metadata": {},
     "output_type": "execute_result"
    }
   ],
   "source": [
    "all_reviews[0], len(all_reviews)"
   ]
  },
  {
   "cell_type": "code",
   "execution_count": 11,
   "id": "529e13ba-7513-4923-834d-751d618fe16f",
   "metadata": {},
   "outputs": [],
   "source": [
    "def extract_aspects(pairs):\n",
    "    aspects = list(set([i[0] for i in pairs]))\n",
    "    return aspects\n",
    "# extract_aspects(all_reviews[0][\"extracted_aspects\"])"
   ]
  },
  {
   "cell_type": "code",
   "execution_count": 12,
   "id": "a2e50f3d-52bd-45cc-9b22-a522ca38a758",
   "metadata": {},
   "outputs": [],
   "source": [
    "import math\n",
    "from collections import Counter\n",
    "\n",
    "def find_similarity(l1, l2):\n",
    "    c1 = Counter(l1)\n",
    "    c2 = Counter(l2)\n",
    "    \n",
    "    # cosine similarity\n",
    "    terms = set(c1).union(c2)\n",
    "    dotprod = sum(c1.get(k, 0) * c2.get(k, 0) for k in terms)\n",
    "    magA = math.sqrt(sum(c1.get(k, 0)**2 for k in terms))\n",
    "    magB = math.sqrt(sum(c2.get(k, 0)**2 for k in terms))\n",
    "    return dotprod / (magA * magB)"
   ]
  },
  {
   "cell_type": "code",
   "execution_count": 13,
   "id": "34857c08-095b-4ef5-8fe1-0fdd36b1801d",
   "metadata": {},
   "outputs": [
    {
     "name": "stderr",
     "output_type": "stream",
     "text": [
      "100%|████████████████████████████████| 2019/2019 [00:19<00:00, 101.56it/s]\n"
     ]
    }
   ],
   "source": [
    "for data in tqdm(all_reviews):\n",
    "    aspect_pairs = apply_extraction(data[\"review\"], nlp)\n",
    "    data[\"extracted_aspects\"] = extract_aspects(aspect_pairs)\n",
    "    try:\n",
    "        data[\"similarity\"] = find_similarity(data[\"actual_aspects\"], data[\"extracted_aspects\"])\n",
    "    except ZeroDivisionError:\n",
    "        data[\"similarity\"] = 0\n",
    "    if data[\"similarity\"] >=0.9:\n",
    "        data[\"check\"] = True\n",
    "    else:\n",
    "        data[\"check\"] = False"
   ]
  },
  {
   "cell_type": "code",
   "execution_count": 14,
   "id": "0ce2319f-8d22-4d30-9fc7-23bf44346e92",
   "metadata": {},
   "outputs": [
    {
     "data": {
      "text/plain": [
       "{'review': 'But the staff was so horrible to us.',\n",
       " 'actual_aspects': ['staff'],\n",
       " 'extracted_aspects': ['staff'],\n",
       " 'similarity': 1.0,\n",
       " 'check': True}"
      ]
     },
     "execution_count": 14,
     "metadata": {},
     "output_type": "execute_result"
    }
   ],
   "source": [
    "all_reviews[0]"
   ]
  },
  {
   "cell_type": "markdown",
   "id": "2f7bf34d-4c5b-4d44-87a3-9c5ff029416e",
   "metadata": {},
   "source": [
    "Check how many of them are correct if we use the rules given"
   ]
  },
  {
   "cell_type": "code",
   "execution_count": 16,
   "id": "8776fc5c-5f22-422a-8237-7c0dfe7b70d5",
   "metadata": {},
   "outputs": [],
   "source": [
    "# import os\n",
    "\n",
    "# os.makedirs(\"output/\")"
   ]
  },
  {
   "cell_type": "code",
   "execution_count": 17,
   "id": "87192033-ae4b-4417-8da8-ae94779ee3d7",
   "metadata": {},
   "outputs": [],
   "source": [
    "pd.DataFrame(all_reviews).to_csv(\"output/extracted_aspects_v1.csv\")"
   ]
  },
  {
   "cell_type": "code",
   "execution_count": 22,
   "id": "e30e3477-c4ae-4bac-ae1f-dac907669dfc",
   "metadata": {},
   "outputs": [
    {
     "data": {
      "text/html": [
       "<div>\n",
       "<style scoped>\n",
       "    .dataframe tbody tr th:only-of-type {\n",
       "        vertical-align: middle;\n",
       "    }\n",
       "\n",
       "    .dataframe tbody tr th {\n",
       "        vertical-align: top;\n",
       "    }\n",
       "\n",
       "    .dataframe thead th {\n",
       "        text-align: right;\n",
       "    }\n",
       "</style>\n",
       "<table border=\"1\" class=\"dataframe\">\n",
       "  <thead>\n",
       "    <tr style=\"text-align: right;\">\n",
       "      <th></th>\n",
       "      <th>id</th>\n",
       "      <th>text</th>\n",
       "      <th>original_aspects</th>\n",
       "    </tr>\n",
       "  </thead>\n",
       "  <tbody>\n",
       "    <tr>\n",
       "      <th>0</th>\n",
       "      <td>3121</td>\n",
       "      <td>But the staff was so horrible to us.</td>\n",
       "      <td>staff</td>\n",
       "    </tr>\n",
       "    <tr>\n",
       "      <th>1</th>\n",
       "      <td>2777</td>\n",
       "      <td>To be completely fair, the only redeeming fact...</td>\n",
       "      <td>food</td>\n",
       "    </tr>\n",
       "    <tr>\n",
       "      <th>2</th>\n",
       "      <td>1634</td>\n",
       "      <td>The food is uniformly exceptional, with a very...</td>\n",
       "      <td>food</td>\n",
       "    </tr>\n",
       "    <tr>\n",
       "      <th>3</th>\n",
       "      <td>1634</td>\n",
       "      <td>The food is uniformly exceptional, with a very...</td>\n",
       "      <td>kitchen</td>\n",
       "    </tr>\n",
       "    <tr>\n",
       "      <th>4</th>\n",
       "      <td>1634</td>\n",
       "      <td>The food is uniformly exceptional, with a very...</td>\n",
       "      <td>menu</td>\n",
       "    </tr>\n",
       "  </tbody>\n",
       "</table>\n",
       "</div>"
      ],
      "text/plain": [
       "     id                                               text original_aspects\n",
       "0  3121               But the staff was so horrible to us.            staff\n",
       "1  2777  To be completely fair, the only redeeming fact...             food\n",
       "2  1634  The food is uniformly exceptional, with a very...             food\n",
       "3  1634  The food is uniformly exceptional, with a very...          kitchen\n",
       "4  1634  The food is uniformly exceptional, with a very...             menu"
      ]
     },
     "execution_count": 22,
     "metadata": {},
     "output_type": "execute_result"
    }
   ],
   "source": [
    "reviews.head()"
   ]
  },
  {
   "cell_type": "code",
   "execution_count": 9,
   "id": "52e61ff8-ae9a-490e-8a8e-85578a13bc6e",
   "metadata": {},
   "outputs": [],
   "source": [
    "from sklearn import cluster\n",
    "from collections import defaultdict"
   ]
  },
  {
   "cell_type": "code",
   "execution_count": 10,
   "id": "fef4c701-f5f2-44dd-a568-59fa3922ef6c",
   "metadata": {},
   "outputs": [],
   "source": [
    "NUM_CLUSTERS = 4\n",
    "aspects = []\n",
    "for review in review_decomp:\n",
    "    aspect_pairs = review[\"aspect_pairs\"]\n",
    "    for noun, adj in aspect_pairs:\n",
    "        # print(noun, adj)\n",
    "        aspects.append(noun)\n",
    "        \n",
    "unique_aspects = list(set(aspects))"
   ]
  },
  {
   "cell_type": "code",
   "execution_count": 11,
   "id": "5ce2271c-389a-4f2a-a0eb-1fe20e80b039",
   "metadata": {},
   "outputs": [
    {
     "data": {
      "text/plain": [
       "64"
      ]
     },
     "execution_count": 11,
     "metadata": {},
     "output_type": "execute_result"
    }
   ],
   "source": [
    "len(unique_aspects)"
   ]
  },
  {
   "cell_type": "code",
   "execution_count": 12,
   "id": "3693dd42-6aee-4389-8ab0-d8be34c40cfa",
   "metadata": {},
   "outputs": [
    {
     "data": {
      "text/plain": [
       "['deficiencies',\n",
       " 'design',\n",
       " 'you',\n",
       " 'stomach',\n",
       " 'spot',\n",
       " 'mussels',\n",
       " 'factor',\n",
       " 'temperatures',\n",
       " 'experience',\n",
       " 'Bagels',\n",
       " 'people',\n",
       " 'bagels',\n",
       " 'price',\n",
       " 'menu',\n",
       " 'decor',\n",
       " 'choices',\n",
       " 'perks',\n",
       " 'seats',\n",
       " 'all',\n",
       " 'atmosphere',\n",
       " 'money',\n",
       " 'rice',\n",
       " 'size',\n",
       " 'dressing',\n",
       " 'food',\n",
       " 'favorite',\n",
       " 'selection',\n",
       " 'variety',\n",
       " 'decoration',\n",
       " 'staff',\n",
       " 'list',\n",
       " 'dinner',\n",
       " 'It',\n",
       " 'I',\n",
       " 'kitchen',\n",
       " 'me',\n",
       " 'waiters',\n",
       " 'pizza',\n",
       " 'desert',\n",
       " 'concept',\n",
       " 'taste',\n",
       " 'Faan',\n",
       " 'quantity',\n",
       " 'lovers',\n",
       " 'above',\n",
       " 'dishes',\n",
       " 'broth',\n",
       " 'vibe',\n",
       " 'restaurants',\n",
       " 'They',\n",
       " 'setting',\n",
       " 'meal',\n",
       " 'texture',\n",
       " 'wine',\n",
       " 'questions',\n",
       " 'benches',\n",
       " 'owner',\n",
       " 'we',\n",
       " 'which',\n",
       " 'prices',\n",
       " 'He',\n",
       " 'service',\n",
       " 'floor',\n",
       " 'place']"
      ]
     },
     "execution_count": 12,
     "metadata": {},
     "output_type": "execute_result"
    }
   ],
   "source": [
    "unique_aspects"
   ]
  },
  {
   "cell_type": "code",
   "execution_count": 20,
   "id": "1d2a9d16-f8fb-4d7c-a736-9730a70f205a",
   "metadata": {},
   "outputs": [],
   "source": [
    "aspects_map = defaultdict(int)\n",
    "for asp in aspects:\n",
    "    aspects_map[asp] += 1"
   ]
  },
  {
   "cell_type": "code",
   "execution_count": 24,
   "id": "6f8a8269-34a2-4383-8254-2dd9087e0664",
   "metadata": {},
   "outputs": [
    {
     "name": "stdout",
     "output_type": "stream",
     "text": [
      "{'benches': 2, 'food': 0, 'questions': 2, 'taste': 0, 'prices': 2, 'place': 2, 'concept': 2, 'setting': 2, 'spot': 0, 'rice': 0, 'above': 2, 'dinner': 0, 'selection': 2, 'dishes': 0, 'experience': 2, 'you': 3, 'decoration': 2, 'Faan': 0, 'I': 3, 'He': 1, 'variety': 2, 'mussels': 0, 'staff': 2, 'which': 2, 'lovers': 0, 'bagels': 0, 'decor': 0, 'choices': 2, 'desert': 0, 'we': 3, 'vibe': 0, 'money': 2, 'size': 2, 'quantity': 2, 'menu': 0, 'perks': 0, 'wine': 0, 'floor': 2, 'pizza': 0, 'broth': 0, 'deficiencies': 2, 'factor': 2, 'people': 2, 'list': 2, 'favorite': 0, 'restaurants': 0, 'price': 2, 'me': 3, 'owner': 0, 'all': 2, 'Bagels': 0, 'They': 2, 'service': 2, 'design': 2, 'meal': 0, 'stomach': 0, 'waiters': 0, 'seats': 2, 'kitchen': 0, 'atmosphere': 2, 'dressing': 2, 'temperatures': 2, 'It': 2, 'texture': 2}\n"
     ]
    }
   ],
   "source": [
    "asp_vectors = []\n",
    "for aspect in unique_aspects:\n",
    "    token = nlp(aspect)\n",
    "    asp_vectors.append(token.vector)\n",
    "    \n",
    "kmeans = cluster.KMeans(n_clusters=NUM_CLUSTERS)\n",
    "kmeans.fit(asp_vectors)\n",
    "labels = kmeans.labels_\n",
    "asp_to_cluster_map = dict(zip(unique_aspects, labels))\n",
    "print(asp_to_cluster_map)"
   ]
  },
  {
   "cell_type": "code",
   "execution_count": 28,
   "id": "43f62ded-8bbc-4f2a-b73e-b6c5c8f07f83",
   "metadata": {},
   "outputs": [],
   "source": [
    "cluster_map = defaultdict()\n",
    "cluster_to_asp_map = defaultdict()\n",
    "for i in range(NUM_CLUSTERS):\n",
    "    cluster_nouns = [k for k, v in asp_to_cluster_map.items() if v==i]\n",
    "    freq_map = {k:v for k, v in aspects_map.items() if k in cluster_nouns}\n",
    "    freq_map = sorted(freq_map.items(), key=lambda x: x[1], reverse=True)\n",
    "    cluster_map[i] = freq_map[0][0]\n",
    "    cluster_to_asp_map[i] = cluster_nouns"
   ]
  },
  {
   "cell_type": "code",
   "execution_count": 30,
   "id": "0471ae3d-e38e-4ff6-8cd2-b22bed05b3b4",
   "metadata": {},
   "outputs": [
    {
     "data": {
      "text/plain": [
       "defaultdict(None,\n",
       "            {0: ['food',\n",
       "              'taste',\n",
       "              'spot',\n",
       "              'rice',\n",
       "              'dinner',\n",
       "              'dishes',\n",
       "              'Faan',\n",
       "              'mussels',\n",
       "              'lovers',\n",
       "              'bagels',\n",
       "              'decor',\n",
       "              'desert',\n",
       "              'vibe',\n",
       "              'menu',\n",
       "              'perks',\n",
       "              'wine',\n",
       "              'pizza',\n",
       "              'broth',\n",
       "              'favorite',\n",
       "              'restaurants',\n",
       "              'owner',\n",
       "              'Bagels',\n",
       "              'meal',\n",
       "              'stomach',\n",
       "              'waiters',\n",
       "              'kitchen'],\n",
       "             1: ['He'],\n",
       "             2: ['benches',\n",
       "              'questions',\n",
       "              'prices',\n",
       "              'place',\n",
       "              'concept',\n",
       "              'setting',\n",
       "              'above',\n",
       "              'selection',\n",
       "              'experience',\n",
       "              'decoration',\n",
       "              'variety',\n",
       "              'staff',\n",
       "              'which',\n",
       "              'choices',\n",
       "              'money',\n",
       "              'size',\n",
       "              'quantity',\n",
       "              'floor',\n",
       "              'deficiencies',\n",
       "              'factor',\n",
       "              'people',\n",
       "              'list',\n",
       "              'price',\n",
       "              'all',\n",
       "              'They',\n",
       "              'service',\n",
       "              'design',\n",
       "              'seats',\n",
       "              'atmosphere',\n",
       "              'dressing',\n",
       "              'temperatures',\n",
       "              'It',\n",
       "              'texture'],\n",
       "             3: ['you', 'I', 'we', 'me']})"
      ]
     },
     "execution_count": 30,
     "metadata": {},
     "output_type": "execute_result"
    }
   ],
   "source": [
    "cluster_to_asp_map"
   ]
  },
  {
   "cell_type": "code",
   "execution_count": null,
   "id": "62945f07-2760-4708-af7f-b3faeaf7e10f",
   "metadata": {},
   "outputs": [],
   "source": []
  }
 ],
 "metadata": {
  "kernelspec": {
   "display_name": "Python 3 (ipykernel)",
   "language": "python",
   "name": "python3"
  },
  "language_info": {
   "codemirror_mode": {
    "name": "ipython",
    "version": 3
   },
   "file_extension": ".py",
   "mimetype": "text/x-python",
   "name": "python",
   "nbconvert_exporter": "python",
   "pygments_lexer": "ipython3",
   "version": "3.8.2"
  }
 },
 "nbformat": 4,
 "nbformat_minor": 5
}
