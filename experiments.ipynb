{
 "cells": [
  {
   "cell_type": "markdown",
   "id": "3c8670f9-a19e-4d4c-af0b-a608bd040590",
   "metadata": {},
   "source": [
    "#### Experiment with airline reviews (tweets) - Aspect Extraction [Source](https://www.kaggle.com/datasets/crowdflower/twitter-airline-sentiment?resource=download)"
   ]
  },
  {
   "cell_type": "code",
   "execution_count": 1,
   "id": "0452dc0c-4446-4ff9-80e9-5999739473cc",
   "metadata": {},
   "outputs": [],
   "source": [
    "import spacy\n",
    "import random\n",
    "import re\n",
    "from collections import defaultdict\n",
    "import pandas as pd"
   ]
  },
  {
   "cell_type": "code",
   "execution_count": 2,
   "id": "025ed0a9-7fd7-48c0-8cbb-a07df8062ba2",
   "metadata": {},
   "outputs": [],
   "source": [
    "# df = pd.read_csv(\"datasets/airline_reviews_tweets/Tweets.csv\")\n",
    "df = pd.read_csv(\"datasets/Restaurant_reviews/Restaurants_Train_v2.csv\")"
   ]
  },
  {
   "cell_type": "code",
   "execution_count": 3,
   "id": "357cb1d8-74e8-4a6b-be04-a5193e86e6bd",
   "metadata": {},
   "outputs": [
    {
     "data": {
      "text/plain": [
       "Index(['id', 'Sentence', 'Aspect Term', 'polarity', 'from', 'to'], dtype='object')"
      ]
     },
     "execution_count": 3,
     "metadata": {},
     "output_type": "execute_result"
    }
   ],
   "source": [
    "df.columns"
   ]
  },
  {
   "cell_type": "markdown",
   "id": "a6720df6-1561-4c70-9d0e-cf54ae533dd3",
   "metadata": {},
   "source": [
    "#### Combine all aspects of a sentence in one column"
   ]
  },
  {
   "cell_type": "code",
   "execution_count": 4,
   "id": "b35be8ef-5acd-43e6-9fab-0ba6616b409d",
   "metadata": {},
   "outputs": [],
   "source": [
    "df1 = df[[\"Sentence\", \"Aspect Term\"]].rename(columns={\"Sentence\":\"text\", \"Aspect Term\":\"aspects\"})"
   ]
  },
  {
   "cell_type": "code",
   "execution_count": 5,
   "id": "4cbe445f-3c17-40db-abdd-f807d6886036",
   "metadata": {},
   "outputs": [
    {
     "data": {
      "text/html": [
       "<div>\n",
       "<style scoped>\n",
       "    .dataframe tbody tr th:only-of-type {\n",
       "        vertical-align: middle;\n",
       "    }\n",
       "\n",
       "    .dataframe tbody tr th {\n",
       "        vertical-align: top;\n",
       "    }\n",
       "\n",
       "    .dataframe thead th {\n",
       "        text-align: right;\n",
       "    }\n",
       "</style>\n",
       "<table border=\"1\" class=\"dataframe\">\n",
       "  <thead>\n",
       "    <tr style=\"text-align: right;\">\n",
       "      <th></th>\n",
       "      <th>text</th>\n",
       "      <th>aspects</th>\n",
       "    </tr>\n",
       "  </thead>\n",
       "  <tbody>\n",
       "    <tr>\n",
       "      <th>0</th>\n",
       "      <td>But the staff was so horrible to us.</td>\n",
       "      <td>staff</td>\n",
       "    </tr>\n",
       "    <tr>\n",
       "      <th>1</th>\n",
       "      <td>To be completely fair, the only redeeming fact...</td>\n",
       "      <td>food</td>\n",
       "    </tr>\n",
       "    <tr>\n",
       "      <th>2</th>\n",
       "      <td>The food is uniformly exceptional, with a very...</td>\n",
       "      <td>food</td>\n",
       "    </tr>\n",
       "    <tr>\n",
       "      <th>3</th>\n",
       "      <td>The food is uniformly exceptional, with a very...</td>\n",
       "      <td>kitchen</td>\n",
       "    </tr>\n",
       "    <tr>\n",
       "      <th>4</th>\n",
       "      <td>The food is uniformly exceptional, with a very...</td>\n",
       "      <td>menu</td>\n",
       "    </tr>\n",
       "  </tbody>\n",
       "</table>\n",
       "</div>"
      ],
      "text/plain": [
       "                                                text  aspects\n",
       "0               But the staff was so horrible to us.    staff\n",
       "1  To be completely fair, the only redeeming fact...     food\n",
       "2  The food is uniformly exceptional, with a very...     food\n",
       "3  The food is uniformly exceptional, with a very...  kitchen\n",
       "4  The food is uniformly exceptional, with a very...     menu"
      ]
     },
     "execution_count": 5,
     "metadata": {},
     "output_type": "execute_result"
    }
   ],
   "source": [
    "df1.head()"
   ]
  },
  {
   "cell_type": "code",
   "execution_count": 6,
   "id": "da613e07-a111-461a-97a6-80fda5820e6e",
   "metadata": {},
   "outputs": [],
   "source": [
    "data = defaultdict(list)\n",
    "for row in df1.itertuples():\n",
    "    data[row.text].append(row.aspects)"
   ]
  },
  {
   "cell_type": "code",
   "execution_count": 7,
   "id": "a4d8fcf6-2301-40d8-a2f5-809ed896cf9a",
   "metadata": {},
   "outputs": [
    {
     "data": {
      "text/plain": [
       "{'In summer-eat outside on a terrace (another great feature of Suan)!!!': ['terrace'],\n",
       " 'If you want a casual neighborhood bistro that has great food and excellent service, this is the place.': ['food',\n",
       "  'service'],\n",
       " \"One would think we'd get an apology or complimentary drinks - instead, we got a snobby waiter wouldn't even take our order for 15 minutes and gave us lip when we asked him to do so.\": ['waiter',\n",
       "  'drinks'],\n",
       " 'The atmosphere is unheralded, the service impecible, and the food magnificant.': ['atmosphere',\n",
       "  'service',\n",
       "  'food'],\n",
       " 'Still, any quibbles about the bill were off-set by the pour-your-own measures of liquers which were courtesey of the house...': ['bill',\n",
       "  'measures of liquers']}"
      ]
     },
     "execution_count": 7,
     "metadata": {},
     "output_type": "execute_result"
    }
   ],
   "source": [
    "sample = dict(random.sample(data.items(), 5))\n",
    "sample"
   ]
  },
  {
   "cell_type": "code",
   "execution_count": 79,
   "id": "1ecc7b5d-5c04-47c6-ace5-2c0b522df851",
   "metadata": {},
   "outputs": [
    {
     "name": "stdout",
     "output_type": "stream",
     "text": [
      "['you', 'a casual neighborhood', 'that', 'great food', 'excellent service', 'this', 'the place']\n"
     ]
    }
   ],
   "source": [
    "doc = spacy_model(clean_review('If you want a casual neighborhood bistro that has great food and excellent service, this is the place.'))\n",
    "[(x, x.pos_) for x in doc]\n",
    "print([chunk.text for chunk in doc.noun_chunks])"
   ]
  },
  {
   "cell_type": "markdown",
   "id": "3d78d76d-6098-40b0-ba7d-a13d5a1726bb",
   "metadata": {},
   "source": [
    "#### Cleaning the reviews"
   ]
  },
  {
   "cell_type": "code",
   "execution_count": 29,
   "id": "65a3ba61-51bb-4627-bf54-515e224a7b38",
   "metadata": {},
   "outputs": [],
   "source": [
    "def clean_review(text):\n",
    "    text = re.sub(r'[.,\\/#!$%\\^&\\*;:{}=_`~()]', '', text)\n",
    "    return text"
   ]
  },
  {
   "cell_type": "markdown",
   "id": "2d8e485e-8b99-42a2-814d-d8ba1c9186b8",
   "metadata": {},
   "source": [
    "#### Spacy\n",
    "\"NOUN\" - Noun,\n",
    "\"PROPN\" - Proper Noun,\n",
    "\"PRON\" - Pronouns,\n",
    "\"DET\" - Articles (a, an, the)\n",
    "\"ADP\" - adposition\n",
    "\n",
    "#### Rule\n",
    "1. Noun followed by adjective or vice-versa"
   ]
  },
  {
   "cell_type": "code",
   "execution_count": 75,
   "id": "c1e27d1e-b238-4e57-8275-d0ff80432b9e",
   "metadata": {},
   "outputs": [
    {
     "name": "stdout",
     "output_type": "stream",
     "text": [
      "[(terrace, great)] In summer-eat outside on a terrace another great feature of Suan\n",
      "[(casual, neighborhood), (casual, bistro), (great, food), (excellent, service), (excellent, place)] If you want a casual neighborhood bistro that has great food and excellent service this is the place\n",
      "[(apology, complimentary), (drinks, snobby)] One would think we'd get an apology or complimentary drinks - instead we got a snobby waiter wouldn't even take our order for 15 minutes and gave us lip when we asked him to do so\n",
      "[(atmosphere, unheralded), (service, impecible)] The atmosphere is unheralded the service impecible and the food magnificant\n",
      "[(pour, own)] Still any quibbles about the bill were off-set by the pour-your-own measures of liquers which were courtesey of the house\n"
     ]
    }
   ],
   "source": [
    "spacy_model = spacy.load(\"en_core_web_sm\")\n",
    "for k, v in sample.items():\n",
    "    doc = spacy_model(clean_review(k))\n",
    "    filtered_words = [x for x in doc if x.pos_ in (\"NOUN\", \"ADJ\")]\n",
    "    prev = filtered_words[0]\n",
    "    pairs = []\n",
    "    for words in filtered_words[1:]:\n",
    "        if prev.pos_ == words.pos_:\n",
    "            prev = words \n",
    "        else:\n",
    "            pairs.append((prev, words))\n",
    "    print(pairs, doc)\n",
    "\n"
   ]
  },
  {
   "cell_type": "code",
   "execution_count": 74,
   "id": "fb7792f2-c947-44ba-8977-33a34c86c42c",
   "metadata": {},
   "outputs": [
    {
     "name": "stdout",
     "output_type": "stream",
     "text": [
      "[summer, terrace, great, feature, features]\n",
      "terrace\n",
      "great\n",
      "feature\n",
      "features\n"
     ]
    },
    {
     "data": {
      "text/plain": [
       "[(terrace, great)]"
      ]
     },
     "execution_count": 74,
     "metadata": {},
     "output_type": "execute_result"
    }
   ],
   "source": [
    "pairs = []\n",
    "doc = spacy_model(clean_review('In summer-eat outside on a terrace another great feature of Suan of features'))\n",
    "filtered_words = [x for x in doc if x.pos_ in (\"NOUN\", \"ADJ\")]\n",
    "print(filtered_words)\n",
    "prev = filtered_words[0]\n",
    "for words in filtered_words[1:]:\n",
    "    print(words)\n",
    "    if prev.pos_ == words.pos_:\n",
    "        prev = words \n",
    "    else:\n",
    "        pairs.append((prev, words))\n",
    "        \n",
    "pairs"
   ]
  },
  {
   "cell_type": "code",
   "execution_count": 74,
   "id": "91b41e62-bb70-4666-a933-891f70524931",
   "metadata": {},
   "outputs": [
    {
     "name": "stdout",
     "output_type": "stream",
     "text": [
      "['foods', 'MSG cooking']\n",
      "['tuna tartare', 'sake', 'mushroom ravioli', 'pinot noir', 'chocolate sampler', 'dessert wine']\n",
      "['filet mignon dish']\n",
      "['sea bass']\n",
      "['lines', 'crowds']\n"
     ]
    }
   ],
   "source": [
    "for k, v in sample.items():\n",
    "    print(v)"
   ]
  },
  {
   "cell_type": "markdown",
   "id": "d2a5d454-4974-4024-826c-3c21756005ff",
   "metadata": {},
   "source": [
    "#### Test aspectnlp"
   ]
  },
  {
   "cell_type": "code",
   "execution_count": null,
   "id": "cfbc6556-6def-43e4-95ae-27025aa69e7a",
   "metadata": {},
   "outputs": [],
   "source": [
    "from aspectnlp.aspect_detector import aspectDetector\n",
    "from aspectnlp.aspect_sentiment import AspectSentimentScorer\n",
    "from aspectnlp.vae_topic_model import VAETopic\n",
    "from aspectnlp.w2v import fasttext_emb"
   ]
  },
  {
   "cell_type": "code",
   "execution_count": null,
   "id": "925a4bce-2787-49d5-a133-318630f25d6f",
   "metadata": {},
   "outputs": [],
   "source": [
    "as"
   ]
  }
 ],
 "metadata": {
  "kernelspec": {
   "display_name": "Python 3 (ipykernel)",
   "language": "python",
   "name": "python3"
  },
  "language_info": {
   "codemirror_mode": {
    "name": "ipython",
    "version": 3
   },
   "file_extension": ".py",
   "mimetype": "text/x-python",
   "name": "python",
   "nbconvert_exporter": "python",
   "pygments_lexer": "ipython3",
   "version": "3.8.2"
  }
 },
 "nbformat": 4,
 "nbformat_minor": 5
}
