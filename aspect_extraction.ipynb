{
 "cells": [
  {
   "cell_type": "markdown",
   "id": "b9e14722-0c54-4fad-861e-5e83011cb17d",
   "metadata": {},
   "source": [
    "#### Aspect Extraction on Restaurant reviews"
   ]
  },
  {
   "cell_type": "code",
   "execution_count": 1,
   "id": "b49b7fcf-cf00-46ea-b8b3-6ea56edef9df",
   "metadata": {},
   "outputs": [],
   "source": [
    "%load_ext autoreload\n",
    "%autoreload 2"
   ]
  },
  {
   "cell_type": "code",
   "execution_count": 2,
   "id": "bc684c92-1ee3-4f57-b9f8-8f019f5263e1",
   "metadata": {},
   "outputs": [],
   "source": [
    "import pandas as pd\n",
    "import spacy"
   ]
  },
  {
   "cell_type": "code",
   "execution_count": 3,
   "id": "7fc54b96-197f-4772-9aec-19ba677322cd",
   "metadata": {},
   "outputs": [],
   "source": [
    "sp = spacy.load(\"en_core_web_sm\")"
   ]
  },
  {
   "cell_type": "code",
   "execution_count": 4,
   "id": "82af9e7d-b0c6-44a9-8981-0f4625c44226",
   "metadata": {},
   "outputs": [],
   "source": [
    "# df = pd.read_csv(\"Datafiniti_Amazon_Consumer_Reviews_of_Amazon_Products.csv\")\n",
    "df = pd.read_csv(\"Restaurant_Reviews.tsv\", sep=\"\\t\")"
   ]
  },
  {
   "cell_type": "code",
   "execution_count": 5,
   "id": "242a98e5-c20d-4d21-8e0a-1626060e0897",
   "metadata": {},
   "outputs": [
    {
     "data": {
      "text/plain": [
       "Index(['Review', 'Liked'], dtype='object')"
      ]
     },
     "execution_count": 5,
     "metadata": {},
     "output_type": "execute_result"
    }
   ],
   "source": [
    "df.columns"
   ]
  },
  {
   "cell_type": "code",
   "execution_count": 6,
   "id": "d7cd7a50-7766-4271-8347-8b972e0d49e4",
   "metadata": {},
   "outputs": [
    {
     "data": {
      "text/html": [
       "<div>\n",
       "<style scoped>\n",
       "    .dataframe tbody tr th:only-of-type {\n",
       "        vertical-align: middle;\n",
       "    }\n",
       "\n",
       "    .dataframe tbody tr th {\n",
       "        vertical-align: top;\n",
       "    }\n",
       "\n",
       "    .dataframe thead th {\n",
       "        text-align: right;\n",
       "    }\n",
       "</style>\n",
       "<table border=\"1\" class=\"dataframe\">\n",
       "  <thead>\n",
       "    <tr style=\"text-align: right;\">\n",
       "      <th></th>\n",
       "      <th>Review</th>\n",
       "      <th>Liked</th>\n",
       "    </tr>\n",
       "  </thead>\n",
       "  <tbody>\n",
       "    <tr>\n",
       "      <th>0</th>\n",
       "      <td>Wow... Loved this place.</td>\n",
       "      <td>1</td>\n",
       "    </tr>\n",
       "    <tr>\n",
       "      <th>1</th>\n",
       "      <td>Crust is not good.</td>\n",
       "      <td>0</td>\n",
       "    </tr>\n",
       "    <tr>\n",
       "      <th>2</th>\n",
       "      <td>Not tasty and the texture was just nasty.</td>\n",
       "      <td>0</td>\n",
       "    </tr>\n",
       "    <tr>\n",
       "      <th>3</th>\n",
       "      <td>Stopped by during the late May bank holiday of...</td>\n",
       "      <td>1</td>\n",
       "    </tr>\n",
       "    <tr>\n",
       "      <th>4</th>\n",
       "      <td>The selection on the menu was great and so wer...</td>\n",
       "      <td>1</td>\n",
       "    </tr>\n",
       "  </tbody>\n",
       "</table>\n",
       "</div>"
      ],
      "text/plain": [
       "                                              Review  Liked\n",
       "0                           Wow... Loved this place.      1\n",
       "1                                 Crust is not good.      0\n",
       "2          Not tasty and the texture was just nasty.      0\n",
       "3  Stopped by during the late May bank holiday of...      1\n",
       "4  The selection on the menu was great and so wer...      1"
      ]
     },
     "execution_count": 6,
     "metadata": {},
     "output_type": "execute_result"
    }
   ],
   "source": [
    "df.head()"
   ]
  },
  {
   "cell_type": "code",
   "execution_count": 7,
   "id": "706a84c6-29f7-4044-a9ed-ca1fb0604080",
   "metadata": {},
   "outputs": [],
   "source": [
    "sentences = list(df[\"Review\"])"
   ]
  },
  {
   "cell_type": "code",
   "execution_count": 11,
   "id": "cee9d6fb-532c-489b-bcce-b4c747d440b4",
   "metadata": {},
   "outputs": [
    {
     "name": "stdout",
     "output_type": "stream",
     "text": [
      "sent: Wow... Loved this place. and token: Wow\n",
      "sent: Wow... Loved this place. and token: ...\n",
      "sent: Wow... Loved this place. and token: Loved\n",
      "sent: Wow... Loved this place. and token: this\n",
      "sent: Wow... Loved this place. and token: place\n",
      "sent: Wow... Loved this place. and token: .\n",
      "sent: Crust is not good. and token: Crust\n",
      "sent: Crust is not good. and token: is\n",
      "sent: Crust is not good. and token: not\n",
      "sent: Crust is not good. and token: good\n",
      "sent: Crust is not good. and token: .\n",
      "sent: Not tasty and the texture was just nasty. and token: Not\n",
      "sent: Not tasty and the texture was just nasty. and token: tasty\n",
      "sent: Not tasty and the texture was just nasty. and token: and\n",
      "sent: Not tasty and the texture was just nasty. and token: the\n",
      "sent: Not tasty and the texture was just nasty. and token: texture\n",
      "sent: Not tasty and the texture was just nasty. and token: was\n",
      "sent: Not tasty and the texture was just nasty. and token: just\n",
      "sent: Not tasty and the texture was just nasty. and token: nasty\n",
      "sent: Not tasty and the texture was just nasty. and token: .\n",
      "sent: Stopped by during the late May bank holiday off Rick Steve recommendation and loved it. and token: Stopped\n",
      "sent: Stopped by during the late May bank holiday off Rick Steve recommendation and loved it. and token: by\n",
      "sent: Stopped by during the late May bank holiday off Rick Steve recommendation and loved it. and token: during\n",
      "sent: Stopped by during the late May bank holiday off Rick Steve recommendation and loved it. and token: the\n",
      "sent: Stopped by during the late May bank holiday off Rick Steve recommendation and loved it. and token: late\n",
      "sent: Stopped by during the late May bank holiday off Rick Steve recommendation and loved it. and token: May\n",
      "sent: Stopped by during the late May bank holiday off Rick Steve recommendation and loved it. and token: bank\n",
      "sent: Stopped by during the late May bank holiday off Rick Steve recommendation and loved it. and token: holiday\n",
      "sent: Stopped by during the late May bank holiday off Rick Steve recommendation and loved it. and token: off\n",
      "sent: Stopped by during the late May bank holiday off Rick Steve recommendation and loved it. and token: Rick\n",
      "sent: Stopped by during the late May bank holiday off Rick Steve recommendation and loved it. and token: Steve\n",
      "sent: Stopped by during the late May bank holiday off Rick Steve recommendation and loved it. and token: recommendation\n",
      "sent: Stopped by during the late May bank holiday off Rick Steve recommendation and loved it. and token: and\n",
      "sent: Stopped by during the late May bank holiday off Rick Steve recommendation and loved it. and token: loved\n",
      "sent: Stopped by during the late May bank holiday off Rick Steve recommendation and loved it. and token: it\n",
      "sent: Stopped by during the late May bank holiday off Rick Steve recommendation and loved it. and token: .\n",
      "sent: The selection on the menu was great and so were the prices. and token: The\n",
      "sent: The selection on the menu was great and so were the prices. and token: selection\n",
      "sent: The selection on the menu was great and so were the prices. and token: on\n",
      "sent: The selection on the menu was great and so were the prices. and token: the\n",
      "sent: The selection on the menu was great and so were the prices. and token: menu\n",
      "sent: The selection on the menu was great and so were the prices. and token: was\n",
      "sent: The selection on the menu was great and so were the prices. and token: great\n",
      "sent: The selection on the menu was great and so were the prices. and token: and\n",
      "sent: The selection on the menu was great and so were the prices. and token: so\n",
      "sent: The selection on the menu was great and so were the prices. and token: were\n",
      "sent: The selection on the menu was great and so were the prices. and token: the\n",
      "sent: The selection on the menu was great and so were the prices. and token: prices\n",
      "sent: The selection on the menu was great and so were the prices. and token: .\n",
      "aspects: [{'aspect': '', 'description': ''}, {'aspect': 'Crust', 'description': 'good'}, {'aspect': '', 'description': 'just nasty'}, {'aspect': '', 'description': 'late'}, {'aspect': 'prices', 'description': 'great'}]\n"
     ]
    }
   ],
   "source": [
    "extracted_aspects = []\n",
    "\n",
    "for sent in sentences[:5]:\n",
    "    descriptive_item = ''\n",
    "    target = ''\n",
    "    for token in sp(sent):\n",
    "        print(f\"sent: {sent} and token: {token}\")\n",
    "        if token.dep_ == 'nsubj' and token.pos_ == 'NOUN':\n",
    "            target = token.text\n",
    "        if token.pos_ == 'ADJ':\n",
    "            added_terms = ''\n",
    "            for mini_token in token.children:\n",
    "                if mini_token.pos_ != 'ADV':\n",
    "                    continue\n",
    "                added_terms += mini_token.text + ' '\n",
    "            descriptive_item = added_terms + token.text\n",
    "\n",
    "    extracted_aspects.append({\"aspect\": target, \"description\": descriptive_item})\n",
    "print(f\"aspects: {extracted_aspects}\")"
   ]
  },
  {
   "cell_type": "code",
   "execution_count": null,
   "id": "d9de4f77-9fbf-4b73-bbb1-cb3f01197d6a",
   "metadata": {},
   "outputs": [],
   "source": []
  }
 ],
 "metadata": {
  "kernelspec": {
   "display_name": "Python 3 (ipykernel)",
   "language": "python",
   "name": "python3"
  },
  "language_info": {
   "codemirror_mode": {
    "name": "ipython",
    "version": 3
   },
   "file_extension": ".py",
   "mimetype": "text/x-python",
   "name": "python",
   "nbconvert_exporter": "python",
   "pygments_lexer": "ipython3",
   "version": "3.8.2"
  }
 },
 "nbformat": 4,
 "nbformat_minor": 5
}
