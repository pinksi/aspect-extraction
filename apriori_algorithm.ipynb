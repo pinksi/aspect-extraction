{
 "cells": [
  {
   "cell_type": "markdown",
   "id": "aa6e6c6c-6d4d-4a95-b5b5-cc1ea853e7c7",
   "metadata": {},
   "source": [
    "### Apriori Algorithm for Association Rule Mining"
   ]
  },
  {
   "cell_type": "code",
   "execution_count": 25,
   "id": "90e83b44-841d-4308-baca-279daaabb467",
   "metadata": {},
   "outputs": [],
   "source": [
    "import pandas as pd\n",
    "import numpy as np\n",
    "from mlxtend.frequent_patterns import apriori, association_rules\n",
    "import matplotlib.pyplot as plt"
   ]
  },
  {
   "cell_type": "code",
   "execution_count": 24,
   "id": "0ef5a772-1205-4bb0-b85a-98a0d55f9ef4",
   "metadata": {},
   "outputs": [],
   "source": [
    "# !pip install mlxtend"
   ]
  },
  {
   "cell_type": "code",
   "execution_count": 26,
   "id": "8a645a88-6e37-4496-959f-61cb71c3db5f",
   "metadata": {},
   "outputs": [
    {
     "data": {
      "text/html": [
       "<div>\n",
       "<style scoped>\n",
       "    .dataframe tbody tr th:only-of-type {\n",
       "        vertical-align: middle;\n",
       "    }\n",
       "\n",
       "    .dataframe tbody tr th {\n",
       "        vertical-align: top;\n",
       "    }\n",
       "\n",
       "    .dataframe thead th {\n",
       "        text-align: right;\n",
       "    }\n",
       "</style>\n",
       "<table border=\"1\" class=\"dataframe\">\n",
       "  <thead>\n",
       "    <tr style=\"text-align: right;\">\n",
       "      <th></th>\n",
       "      <th>0</th>\n",
       "      <th>1</th>\n",
       "      <th>2</th>\n",
       "      <th>3</th>\n",
       "      <th>4</th>\n",
       "      <th>5</th>\n",
       "      <th>6</th>\n",
       "    </tr>\n",
       "  </thead>\n",
       "  <tbody>\n",
       "    <tr>\n",
       "      <th>0</th>\n",
       "      <td>Bread</td>\n",
       "      <td>Wine</td>\n",
       "      <td>Eggs</td>\n",
       "      <td>Meat</td>\n",
       "      <td>Cheese</td>\n",
       "      <td>Pencil</td>\n",
       "      <td>Diaper</td>\n",
       "    </tr>\n",
       "    <tr>\n",
       "      <th>1</th>\n",
       "      <td>Bread</td>\n",
       "      <td>Cheese</td>\n",
       "      <td>Meat</td>\n",
       "      <td>Diaper</td>\n",
       "      <td>Wine</td>\n",
       "      <td>Milk</td>\n",
       "      <td>Pencil</td>\n",
       "    </tr>\n",
       "    <tr>\n",
       "      <th>2</th>\n",
       "      <td>Cheese</td>\n",
       "      <td>Meat</td>\n",
       "      <td>Eggs</td>\n",
       "      <td>Milk</td>\n",
       "      <td>Wine</td>\n",
       "      <td>NaN</td>\n",
       "      <td>NaN</td>\n",
       "    </tr>\n",
       "    <tr>\n",
       "      <th>3</th>\n",
       "      <td>Cheese</td>\n",
       "      <td>Meat</td>\n",
       "      <td>Eggs</td>\n",
       "      <td>Milk</td>\n",
       "      <td>Wine</td>\n",
       "      <td>NaN</td>\n",
       "      <td>NaN</td>\n",
       "    </tr>\n",
       "    <tr>\n",
       "      <th>4</th>\n",
       "      <td>Meat</td>\n",
       "      <td>Pencil</td>\n",
       "      <td>Wine</td>\n",
       "      <td>NaN</td>\n",
       "      <td>NaN</td>\n",
       "      <td>NaN</td>\n",
       "      <td>NaN</td>\n",
       "    </tr>\n",
       "  </tbody>\n",
       "</table>\n",
       "</div>"
      ],
      "text/plain": [
       "        0       1     2       3       4       5       6\n",
       "0   Bread    Wine  Eggs    Meat  Cheese  Pencil  Diaper\n",
       "1   Bread  Cheese  Meat  Diaper    Wine    Milk  Pencil\n",
       "2  Cheese    Meat  Eggs    Milk    Wine     NaN     NaN\n",
       "3  Cheese    Meat  Eggs    Milk    Wine     NaN     NaN\n",
       "4    Meat  Pencil  Wine     NaN     NaN     NaN     NaN"
      ]
     },
     "execution_count": 26,
     "metadata": {},
     "output_type": "execute_result"
    }
   ],
   "source": [
    "df = pd.read_csv(\"datasets/apriori_dataset/retail_dataset.csv\", sep=\",\")\n",
    "df.head()"
   ]
  },
  {
   "cell_type": "markdown",
   "id": "7f79fa1a-b384-4218-a9d4-650fc982c064",
   "metadata": {},
   "source": [
    "Each row in dataset represents items that were purchased together on same day at same store.\n",
    "\n",
    "looks like dataset contains NaN -> sparse dataset"
   ]
  },
  {
   "cell_type": "code",
   "execution_count": 38,
   "id": "d07c2224-d8b0-447d-b4bb-b98916a716ad",
   "metadata": {},
   "outputs": [],
   "source": [
    "# fill NaN with empty string\n",
    "df = df.fillna(\" \")"
   ]
  },
  {
   "cell_type": "code",
   "execution_count": 46,
   "id": "5906b471-ac5c-4bcb-9bda-49354db68829",
   "metadata": {},
   "outputs": [
    {
     "name": "stdout",
     "output_type": "stream",
     "text": [
      "{' ', 'Meat', 'Bagel', 'Eggs', 'Wine', 'Diaper', 'Milk', 'Cheese', 'Pencil', 'Bread'} 10\n",
      "{'Meat', 'Bagel', 'Eggs', 'Wine', 'Diaper', 'Milk', 'Cheese', 'Pencil', 'Bread'} 9\n"
     ]
    }
   ],
   "source": [
    "# checking unique items in all dataset\n",
    "items = set()\n",
    "for col in df:\n",
    "    items.update(df[col].unique())\n",
    "\n",
    "print(items, len(items))\n",
    "items.remove(\" \")\n",
    "print(items, len(items))"
   ]
  },
  {
   "cell_type": "markdown",
   "id": "8267eb7a-1db6-45f1-a271-fd21a6d6bf2f",
   "metadata": {},
   "source": [
    "Convert the dataset into one hot encoding (required for mlxtend library)\n",
    "\n",
    "Using all unique items as base, take each row and elements that are in unique items but not in row are uncommon items ie. 0 and elements that are in both unique items and each row are common items ie. 1"
   ]
  },
  {
   "cell_type": "code",
   "execution_count": 59,
   "id": "d1a3b64a-34f8-47d6-893d-0289c5edd3c5",
   "metadata": {},
   "outputs": [
    {
     "name": "stdout",
     "output_type": "stream",
     "text": [
      "{'Bagel': 0, 'Milk': 0, 'Meat': 1, 'Diaper': 1, 'Eggs': 1, 'Wine': 1, 'Cheese': 1, 'Pencil': 1, 'Bread': 1}\n"
     ]
    }
   ],
   "source": [
    "itemset = set(items)\n",
    "encoded_vals = []\n",
    "for row in df.itertuples():\n",
    "    rowset = set(row)\n",
    "    labels = {}\n",
    "    uncommons = list(itemset - rowset)\n",
    "    commons = list(itemset.intersection(rowset))\n",
    "    for uc in uncommons:\n",
    "        labels[uc] = 0\n",
    "    for com in commons:\n",
    "        labels[com] = 1\n",
    "    encoded_vals.append(labels)\n",
    "\n",
    "print(encoded_vals[0])\n",
    "encoded_df = pd.DataFrame(encoded_vals)"
   ]
  },
  {
   "cell_type": "markdown",
   "id": "f9d5def6-c024-4c57-b880-6f4b4637027e",
   "metadata": {},
   "source": [
    "Using Apriori module from mlxtend library\n",
    "\n",
    "Implementation: \n",
    "`apriori(df, min_support=0.5, use_colnames=False, max_len=None, verbose=0, low_memory=False)`\n",
    "\n",
    "df - one hot-encoded df\n",
    "min_support - minimum support\n",
    "use_colnames - preserve col names\n",
    "max_len - max length of itemset generated, if \"None\", all possible lengths are evaluated\n",
    "verbose - show num of iterations if >=1\n",
    "low_memory - if True, use iterator to search for combinations above min_support\n",
    "\n",
    "\n"
   ]
  },
  {
   "cell_type": "code",
   "execution_count": 67,
   "id": "8bf6a49c-4bc5-40a9-a127-05cc553d45e9",
   "metadata": {},
   "outputs": [
    {
     "name": "stdout",
     "output_type": "stream",
     "text": [
      "Processing 135 combinations | Sampling itemset size 3\n"
     ]
    },
    {
     "name": "stderr",
     "output_type": "stream",
     "text": [
      "/Users/pinkysitikhu/.virtualenvs/nlp_env/lib/python3.8/site-packages/mlxtend/frequent_patterns/fpcommon.py:111: DeprecationWarning: DataFrames with non-bool types result in worse computationalperformance and their support might be discontinued in the future.Please use a DataFrame with bool type\n",
      "  warnings.warn(\n"
     ]
    },
    {
     "data": {
      "text/html": [
       "<div>\n",
       "<style scoped>\n",
       "    .dataframe tbody tr th:only-of-type {\n",
       "        vertical-align: middle;\n",
       "    }\n",
       "\n",
       "    .dataframe tbody tr th {\n",
       "        vertical-align: top;\n",
       "    }\n",
       "\n",
       "    .dataframe thead th {\n",
       "        text-align: right;\n",
       "    }\n",
       "</style>\n",
       "<table border=\"1\" class=\"dataframe\">\n",
       "  <thead>\n",
       "    <tr style=\"text-align: right;\">\n",
       "      <th></th>\n",
       "      <th>support</th>\n",
       "      <th>itemsets</th>\n",
       "    </tr>\n",
       "  </thead>\n",
       "  <tbody>\n",
       "    <tr>\n",
       "      <th>0</th>\n",
       "      <td>0.425397</td>\n",
       "      <td>(Bagel)</td>\n",
       "    </tr>\n",
       "    <tr>\n",
       "      <th>1</th>\n",
       "      <td>0.501587</td>\n",
       "      <td>(Milk)</td>\n",
       "    </tr>\n",
       "    <tr>\n",
       "      <th>2</th>\n",
       "      <td>0.476190</td>\n",
       "      <td>(Meat)</td>\n",
       "    </tr>\n",
       "    <tr>\n",
       "      <th>3</th>\n",
       "      <td>0.406349</td>\n",
       "      <td>(Diaper)</td>\n",
       "    </tr>\n",
       "    <tr>\n",
       "      <th>4</th>\n",
       "      <td>0.438095</td>\n",
       "      <td>(Eggs)</td>\n",
       "    </tr>\n",
       "  </tbody>\n",
       "</table>\n",
       "</div>"
      ],
      "text/plain": [
       "    support  itemsets\n",
       "0  0.425397   (Bagel)\n",
       "1  0.501587    (Milk)\n",
       "2  0.476190    (Meat)\n",
       "3  0.406349  (Diaper)\n",
       "4  0.438095    (Eggs)"
      ]
     },
     "execution_count": 67,
     "metadata": {},
     "output_type": "execute_result"
    }
   ],
   "source": [
    "freq_items = apriori(encoded_df, min_support=0.2, use_colnames=True, verbose=1)\n",
    "# support - It shows how many times the itemset appears in the transaction database\n",
    "# showing support that are > min_support for each itemsets\n",
    "freq_items.head()"
   ]
  },
  {
   "cell_type": "markdown",
   "id": "913cfee6-6ea8-4f72-a77e-04ecd8cbedaa",
   "metadata": {},
   "source": [
    "Association rules: Frequent if-then associations, antecedent (if), consequent (then)\n",
    "\n",
    "`association_rules(df, metric=’confidence’, min_threshold=0.8, support_only=False)`\n",
    "\n",
    "metric can be set to confidence, lift, support, leverage and conviction\n",
    "\n",
    "confidence - defines the likeliness of occurrence of consequent on the cart given that the cart already has the antecedents. The confidence value indicates how reliable is this rule."
   ]
  },
  {
   "cell_type": "code",
   "execution_count": 63,
   "id": "e3472b71-861c-4a42-942b-9be689d225bf",
   "metadata": {},
   "outputs": [
    {
     "data": {
      "text/html": [
       "<div>\n",
       "<style scoped>\n",
       "    .dataframe tbody tr th:only-of-type {\n",
       "        vertical-align: middle;\n",
       "    }\n",
       "\n",
       "    .dataframe tbody tr th {\n",
       "        vertical-align: top;\n",
       "    }\n",
       "\n",
       "    .dataframe thead th {\n",
       "        text-align: right;\n",
       "    }\n",
       "</style>\n",
       "<table border=\"1\" class=\"dataframe\">\n",
       "  <thead>\n",
       "    <tr style=\"text-align: right;\">\n",
       "      <th></th>\n",
       "      <th>antecedents</th>\n",
       "      <th>consequents</th>\n",
       "      <th>antecedent support</th>\n",
       "      <th>consequent support</th>\n",
       "      <th>support</th>\n",
       "      <th>confidence</th>\n",
       "      <th>lift</th>\n",
       "      <th>leverage</th>\n",
       "      <th>conviction</th>\n",
       "    </tr>\n",
       "  </thead>\n",
       "  <tbody>\n",
       "    <tr>\n",
       "      <th>0</th>\n",
       "      <td>(Bagel)</td>\n",
       "      <td>(Bread)</td>\n",
       "      <td>0.425397</td>\n",
       "      <td>0.504762</td>\n",
       "      <td>0.279365</td>\n",
       "      <td>0.656716</td>\n",
       "      <td>1.301042</td>\n",
       "      <td>0.064641</td>\n",
       "      <td>1.442650</td>\n",
       "    </tr>\n",
       "    <tr>\n",
       "      <th>1</th>\n",
       "      <td>(Milk)</td>\n",
       "      <td>(Cheese)</td>\n",
       "      <td>0.501587</td>\n",
       "      <td>0.501587</td>\n",
       "      <td>0.304762</td>\n",
       "      <td>0.607595</td>\n",
       "      <td>1.211344</td>\n",
       "      <td>0.053172</td>\n",
       "      <td>1.270148</td>\n",
       "    </tr>\n",
       "    <tr>\n",
       "      <th>2</th>\n",
       "      <td>(Cheese)</td>\n",
       "      <td>(Milk)</td>\n",
       "      <td>0.501587</td>\n",
       "      <td>0.501587</td>\n",
       "      <td>0.304762</td>\n",
       "      <td>0.607595</td>\n",
       "      <td>1.211344</td>\n",
       "      <td>0.053172</td>\n",
       "      <td>1.270148</td>\n",
       "    </tr>\n",
       "    <tr>\n",
       "      <th>3</th>\n",
       "      <td>(Eggs)</td>\n",
       "      <td>(Meat)</td>\n",
       "      <td>0.438095</td>\n",
       "      <td>0.476190</td>\n",
       "      <td>0.266667</td>\n",
       "      <td>0.608696</td>\n",
       "      <td>1.278261</td>\n",
       "      <td>0.058050</td>\n",
       "      <td>1.338624</td>\n",
       "    </tr>\n",
       "    <tr>\n",
       "      <th>4</th>\n",
       "      <td>(Meat)</td>\n",
       "      <td>(Cheese)</td>\n",
       "      <td>0.476190</td>\n",
       "      <td>0.501587</td>\n",
       "      <td>0.323810</td>\n",
       "      <td>0.680000</td>\n",
       "      <td>1.355696</td>\n",
       "      <td>0.084958</td>\n",
       "      <td>1.557540</td>\n",
       "    </tr>\n",
       "  </tbody>\n",
       "</table>\n",
       "</div>"
      ],
      "text/plain": [
       "  antecedents consequents  antecedent support  consequent support   support  \\\n",
       "0     (Bagel)     (Bread)            0.425397            0.504762  0.279365   \n",
       "1      (Milk)    (Cheese)            0.501587            0.501587  0.304762   \n",
       "2    (Cheese)      (Milk)            0.501587            0.501587  0.304762   \n",
       "3      (Eggs)      (Meat)            0.438095            0.476190  0.266667   \n",
       "4      (Meat)    (Cheese)            0.476190            0.501587  0.323810   \n",
       "\n",
       "   confidence      lift  leverage  conviction  \n",
       "0    0.656716  1.301042  0.064641    1.442650  \n",
       "1    0.607595  1.211344  0.053172    1.270148  \n",
       "2    0.607595  1.211344  0.053172    1.270148  \n",
       "3    0.608696  1.278261  0.058050    1.338624  \n",
       "4    0.680000  1.355696  0.084958    1.557540  "
      ]
     },
     "execution_count": 63,
     "metadata": {},
     "output_type": "execute_result"
    }
   ],
   "source": [
    "rules = association_rules(freq_items, metric=\"confidence\", min_threshold=0.6)\n",
    "# showing association rules with confidence metric: shows which items is frequently purchased with other item\n",
    "rules.head()"
   ]
  },
  {
   "cell_type": "markdown",
   "id": "b82cdbb2-f4d5-4349-93a7-74551b6d1e82",
   "metadata": {},
   "source": [
    "Visualize the results"
   ]
  },
  {
   "cell_type": "code",
   "execution_count": 64,
   "id": "20ee36fa-46c8-4bb5-a4a5-6f8efaefeb74",
   "metadata": {},
   "outputs": [
    {
     "data": {
      "image/png": "[encoded data removed]",
      "text/plain": [
       "<Figure size 640x480 with 1 Axes>"
      ]
     },
     "metadata": {},
     "output_type": "display_data"
    }
   ],
   "source": [
    "# support vs confidence\n",
    "plt.scatter(rules[\"support\"], rules[\"confidence\"], alpha=0.5)\n",
    "plt.xlabel(\"support\")\n",
    "plt.ylabel(\"confidence\")\n",
    "plt.title(\"Support VS Confidence\")\n",
    "plt.show()"
   ]
  },
  {
   "cell_type": "code",
   "execution_count": 65,
   "id": "b4e397f4-edc3-42bb-8ff6-1e58fed51382",
   "metadata": {},
   "outputs": [
    {
     "data": {
      "image/png": "[encoded data removed]",
      "text/plain": [
       "<Figure size 640x480 with 1 Axes>"
      ]
     },
     "metadata": {},
     "output_type": "display_data"
    }
   ],
   "source": [
    "# Support VS Lift\n",
    "plt.scatter(rules[\"support\"], rules[\"lift\"], alpha=0.5)\n",
    "plt.xlabel(\"support\")\n",
    "plt.ylabel(\"lift\")\n",
    "plt.title(\"Support VS lift\")\n",
    "plt.show()"
   ]
  },
  {
   "cell_type": "code",
   "execution_count": 66,
   "id": "ec3f2f8b-84ec-4498-831e-d0e6df0231e5",
   "metadata": {},
   "outputs": [
    {
     "data": {
      "text/plain": [
       "[<matplotlib.lines.Line2D at 0x127f27ee0>,\n",
       " <matplotlib.lines.Line2D at 0x127f27eb0>]"
      ]
     },
     "execution_count": 66,
     "metadata": {},
     "output_type": "execute_result"
    },
    {
     "data": {
      "image/png": "[encoded data removed]",
      "text/plain": [
       "<Figure size 640x480 with 1 Axes>"
      ]
     },
     "metadata": {},
     "output_type": "display_data"
    }
   ],
   "source": [
    "# lift vs confidence\n",
    "fit = np.polyfit(rules[\"lift\"], rules[\"confidence\"], 1)\n",
    "fit_fn = np.poly1d(fit)\n",
    "plt.plot(rules[\"lift\"], rules[\"confidence\"], \"yo\", rules[\"lift\"], fit_fn(rules[\"lift\"]))"
   ]
  },
  {
   "cell_type": "code",
   "execution_count": null,
   "id": "7cbc5021-415c-4581-8e25-c75566971781",
   "metadata": {},
   "outputs": [],
   "source": []
  }
 ],
 "metadata": {
  "kernelspec": {
   "display_name": "Python 3 (ipykernel)",
   "language": "python",
   "name": "python3"
  },
  "language_info": {
   "codemirror_mode": {
    "name": "ipython",
    "version": 3
   },
   "file_extension": ".py",
   "mimetype": "text/x-python",
   "name": "python",
   "nbconvert_exporter": "python",
   "pygments_lexer": "ipython3",
   "version": "3.8.2"
  }
 },
 "nbformat": 4,
 "nbformat_minor": 5
}
