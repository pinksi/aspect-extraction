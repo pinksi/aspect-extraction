{
 "cells": [
  {
   "cell_type": "code",
   "execution_count": 180,
   "id": "0cdf7110-aedf-45e7-adc0-4d1e35844da6",
   "metadata": {},
   "outputs": [],
   "source": [
    "import os\n",
    "import sys\n",
    "import spacy\n",
    "import pandas as pd\n",
    "\n",
    "from tqdm import tqdm\n",
    "\n",
    "from sklearn.cluster import KMeans\n",
    "from sklearn import metrics\n",
    "from sklearn.decomposition import PCA"
   ]
  },
  {
   "cell_type": "code",
   "execution_count": 232,
   "id": "74d49272-9a06-4582-ac64-846de27efdbb",
   "metadata": {},
   "outputs": [
    {
     "name": "stdout",
     "output_type": "stream",
     "text": [
      "     id                                           Sentence    Aspect Term  \\\n",
      "0  2128                         I liked the aluminum body.  aluminum body   \n",
      "1    81           Lightweight and the screen is beautiful!         screen   \n",
      "2   353  From the build quality to the performance, eve...  build quality   \n",
      "3   353  From the build quality to the performance, eve...    performance   \n",
      "4   655  It was truly a great computer costing less tha...        costing   \n",
      "\n",
      "   polarity  from  to  \n",
      "0  positive    12  25  \n",
      "1  positive    20  26  \n",
      "2  negative     9  22  \n",
      "3  negative    30  41  \n",
      "4  positive    30  37  \n"
     ]
    },
    {
     "data": {
      "text/html": [
       "<div>\n",
       "<style scoped>\n",
       "    .dataframe tbody tr th:only-of-type {\n",
       "        vertical-align: middle;\n",
       "    }\n",
       "\n",
       "    .dataframe tbody tr th {\n",
       "        vertical-align: top;\n",
       "    }\n",
       "\n",
       "    .dataframe thead th {\n",
       "        text-align: right;\n",
       "    }\n",
       "</style>\n",
       "<table border=\"1\" class=\"dataframe\">\n",
       "  <thead>\n",
       "    <tr style=\"text-align: right;\">\n",
       "      <th></th>\n",
       "      <th>id</th>\n",
       "      <th>Sentence</th>\n",
       "      <th>Aspect Term</th>\n",
       "    </tr>\n",
       "  </thead>\n",
       "  <tbody>\n",
       "    <tr>\n",
       "      <th>0</th>\n",
       "      <td>2128</td>\n",
       "      <td>I liked the aluminum body.</td>\n",
       "      <td>aluminum body</td>\n",
       "    </tr>\n",
       "    <tr>\n",
       "      <th>1</th>\n",
       "      <td>81</td>\n",
       "      <td>Lightweight and the screen is beautiful!</td>\n",
       "      <td>screen</td>\n",
       "    </tr>\n",
       "    <tr>\n",
       "      <th>2</th>\n",
       "      <td>353</td>\n",
       "      <td>From the build quality to the performance, eve...</td>\n",
       "      <td>build quality</td>\n",
       "    </tr>\n",
       "    <tr>\n",
       "      <th>3</th>\n",
       "      <td>353</td>\n",
       "      <td>From the build quality to the performance, eve...</td>\n",
       "      <td>performance</td>\n",
       "    </tr>\n",
       "    <tr>\n",
       "      <th>4</th>\n",
       "      <td>655</td>\n",
       "      <td>It was truly a great computer costing less tha...</td>\n",
       "      <td>costing</td>\n",
       "    </tr>\n",
       "  </tbody>\n",
       "</table>\n",
       "</div>"
      ],
      "text/plain": [
       "     id                                           Sentence    Aspect Term\n",
       "0  2128                         I liked the aluminum body.  aluminum body\n",
       "1    81           Lightweight and the screen is beautiful!         screen\n",
       "2   353  From the build quality to the performance, eve...  build quality\n",
       "3   353  From the build quality to the performance, eve...    performance\n",
       "4   655  It was truly a great computer costing less tha...        costing"
      ]
     },
     "execution_count": 232,
     "metadata": {},
     "output_type": "execute_result"
    }
   ],
   "source": [
    "# file_path = \"datasets/Restaurant_reviews/Restaurants_Train_v2.csv\"\n",
    "file_path = \"datasets/laptops_reviews/laptops-trial.csv\"\n",
    "raw_data = pd.read_csv(file_path)\n",
    "print(raw_data.head())\n",
    "reviews = raw_data[[\"id\", \"Sentence\", \"Aspect Term\"]]\n",
    "reviews.head()"
   ]
  },
  {
   "cell_type": "code",
   "execution_count": 233,
   "id": "c6e50069-aa67-4540-8cb2-0e63a71afc7f",
   "metadata": {},
   "outputs": [
    {
     "name": "stderr",
     "output_type": "stream",
     "text": [
      "/var/folders/mj/qz0vbkcs717cq8rm4j5x5q200000gn/T/ipykernel_73012/4023342088.py:1: SettingWithCopyWarning: \n",
      "A value is trying to be set on a copy of a slice from a DataFrame\n",
      "\n",
      "See the caveats in the documentation: https://pandas.pydata.org/pandas-docs/stable/user_guide/indexing.html#returning-a-view-versus-a-copy\n",
      "  reviews.rename(columns={\"id\": \"id\", \"Sentence\": \"text\", \"Aspect Term\": \"original_aspects\"}, inplace=True)\n"
     ]
    },
    {
     "data": {
      "text/plain": [
       "Index(['id', 'text', 'original_aspects'], dtype='object')"
      ]
     },
     "execution_count": 233,
     "metadata": {},
     "output_type": "execute_result"
    }
   ],
   "source": [
    "reviews.rename(columns={\"id\": \"id\", \"Sentence\": \"text\", \"Aspect Term\": \"original_aspects\"}, inplace=True)\n",
    "reviews.columns"
   ]
  },
  {
   "cell_type": "code",
   "execution_count": 234,
   "id": "b5f76fd5-da66-43b2-9a9e-3a60499a5f5a",
   "metadata": {},
   "outputs": [],
   "source": [
    "# list all the aspects of a sentence in one column\n",
    "results = {}\n",
    "for row in reviews.itertuples():\n",
    "    if row.text in results:\n",
    "        results[row.text].append(row.original_aspects)\n",
    "    else:\n",
    "        results[row.text] = [row.original_aspects]"
   ]
  },
  {
   "cell_type": "code",
   "execution_count": 235,
   "id": "8bad5c78-955c-4398-b11b-037559d7b67b",
   "metadata": {},
   "outputs": [],
   "source": [
    "# proper formatting\n",
    "all_reviews = []\n",
    "for key, val in results.items():\n",
    "    all_reviews.append({\"review\": key, \"actual_aspects\": list(set(val))}) # getting unique actual aspects"
   ]
  },
  {
   "cell_type": "code",
   "execution_count": 236,
   "id": "22ddb3e0-0a5c-4eac-92e2-256cb9ca81b8",
   "metadata": {},
   "outputs": [
    {
     "data": {
      "text/plain": [
       "{'review': 'I liked the aluminum body.', 'actual_aspects': ['aluminum body']}"
      ]
     },
     "execution_count": 236,
     "metadata": {},
     "output_type": "execute_result"
    }
   ],
   "source": [
    "all_reviews[0]"
   ]
  },
  {
   "cell_type": "code",
   "execution_count": 7,
   "id": "47609918-f875-4189-a225-dd7ad45c77f1",
   "metadata": {},
   "outputs": [],
   "source": [
    "# !python3 -m spacy download en_core_web_lg"
   ]
  },
  {
   "cell_type": "code",
   "execution_count": 237,
   "id": "63afe8e1-8a69-429b-b73b-70173f291e2d",
   "metadata": {},
   "outputs": [],
   "source": [
    "nlp = spacy.load(\"en_core_web_lg\")"
   ]
  },
  {
   "cell_type": "code",
   "execution_count": 238,
   "id": "72fd8668-28f0-4ace-8cbc-abbdde68fce1",
   "metadata": {},
   "outputs": [],
   "source": [
    "def apply_extraction(review_body, nlp):\n",
    "    # review_body = row[\"Sentence\"]\n",
    "    # review_id = row[\"id\"]\n",
    "    \n",
    "    doc = nlp(review_body)\n",
    "    \n",
    "    # rule1\n",
    "    r1_pairs = []\n",
    "    for token in doc:\n",
    "        if token.dep_ in (\"amod\", \"advmod\") and token.head.pos_ == \"NOUN\":\n",
    "            r1_pairs.append((token.head.text, token.text))\n",
    "            \n",
    "    # rule2 - Ex: The phone is very lightweight to carry.\n",
    "    r2_pairs = []\n",
    "    for token in doc:\n",
    "        A = \"\"\n",
    "        M = \"\"\n",
    "        for child in token.children:\n",
    "            if child.dep_ == \"nsubj\" and child.pos_ == \"NOUN\":\n",
    "                A = child.text\n",
    "                \n",
    "            if not M and child.dep_ == \"dobj\":\n",
    "                M = child.text\n",
    "            \n",
    "            if not M and child.dep_ == \"acomp\":\n",
    "                M = child.text\n",
    "        if A and M:\n",
    "            r2_pairs.append((A, M))\n",
    "            \n",
    "    # rule3\n",
    "    r3_pairs = []\n",
    "    # prev_token_pos = \"\"\n",
    "    for token in doc:\n",
    "        A = \"\"\n",
    "        M = \"\"\n",
    "        for child in token.children:\n",
    "            if token.pos_ == \"NOUN\" and child.dep_ == \"prep\":\n",
    "                A = token.text\n",
    "                M = child.text\n",
    "            # if prev_token_pos != \"NOUN\" and token.dep_ ==\"prep\" and token.pos_ == \"ADP\" and child.dep_ == \"pobj\":\n",
    "            #     A = child.text\n",
    "        if A and not M:\n",
    "            r3_pairs.append((A, M))\n",
    "        # prev_token_pos = token.pos_\n",
    "\n",
    "            \n",
    "    # rule4\n",
    "    r4_pairs = []\n",
    "    for token in doc:\n",
    "        children = token.children\n",
    "        A = \"\"\n",
    "        M = \"\"\n",
    "        for child in children:\n",
    "            if child.dep_ == \"nsubjpass\":\n",
    "                A = child.text\n",
    "                \n",
    "            if child.dep_ == \"advmod\":\n",
    "                M = child.text\n",
    "        \n",
    "        if A and M:\n",
    "            r4_pairs.append((A, M))\n",
    "            \n",
    "    # rule5\n",
    "    r5_pairs = []\n",
    "    for token in doc:\n",
    "        children = token.children\n",
    "        A = \"\"\n",
    "        M = \"\"\n",
    "        for child in children:\n",
    "            if child.dep_ == \"nsubj\":\n",
    "                A = child.text\n",
    "                \n",
    "            if child.dep_ == \"cop\":\n",
    "                M = child.text\n",
    "        \n",
    "        if A and M:\n",
    "            r5_pairs.append((A, token.text))\n",
    "            \n",
    "    # rule 6 - Ex. I like the lens of the screen.\n",
    "    r6_pairs = []\n",
    "    for token in doc:\n",
    "        A = \"\"\n",
    "        M = \"\"\n",
    "        if token.pos_ == \"VERB\":\n",
    "            for child in token.children:\n",
    "                if child.dep_ == \"nsubj\" and child.pos_ == \"PRON\":\n",
    "                    continue\n",
    "                if child.dep_ == \"dobj\" and child.pos_ == \"NOUN\":\n",
    "                    A = child.text\n",
    "                    M = token.text\n",
    "        if A and M:\n",
    "            r6_pairs.append((A, M))\n",
    "                \n",
    "                \n",
    "    # rule 7 - I would like to comment on the camera of this phone.\n",
    "    A = \"\"\n",
    "    M= \"\"\n",
    "    r7_pairs=[]\n",
    "    for i in range(len(doc)-1):\n",
    "        if doc[i].pos_ == \"VERB\" and doc[i+1].pos_ == \"ADP\" and doc[i+1].dep_ == \"prep\":\n",
    "            for token in doc[i+1:]:\n",
    "                for child in token.children:\n",
    "                    if child.dep_ == \"pobj\" and child.pos_ == \"NOUN\":\n",
    "                        A = child.text\n",
    "                        M = doc[i].text\n",
    "                break   \n",
    "        if A and M:\n",
    "            r7_pairs.append((A, M))\n",
    "            break\n",
    "            \n",
    "    # rule 8 - It is easy to use\n",
    "    r8_pairs = []\n",
    "    for token in doc:\n",
    "        A = \"\"\n",
    "        M = \"\"\n",
    "        if token.pos_ == \"AUX\" and len([child for child in token.children]) >= 2:\n",
    "            for child in token.children:\n",
    "                if child.dep_ == \"acomp\" and child.pos_ == \"ADJ\":\n",
    "                    M = child.text\n",
    "                if child.dep_ == \"xcomp\" and child.pos_ in (\"VERB\", \"NOUN\"):\n",
    "                    A = child.text\n",
    "            if A and M:\n",
    "                r8_pairs.append((A, M))\n",
    "\n",
    "            \n",
    "    # aspects = []\n",
    "    # print(r1_pairs, r2_pairs, r3_pairs, r4_pairs, r5_pairs)\n",
    "    aspects_pairs = r1_pairs + r2_pairs + r3_pairs + r4_pairs + r5_pairs\n",
    "    # aspect_dict = {\"review_id\": review_id, \"review_body\": review_body, \"aspect_pairs\": aspects}\n",
    "    return aspects_pairs"
   ]
  },
  {
   "cell_type": "code",
   "execution_count": 10,
   "id": "d2e7fe9f-e0a3-475c-8891-5b20fccc83a6",
   "metadata": {},
   "outputs": [],
   "source": [
    "# text = \"This phone is a piece of crap.\"\n",
    "# doc = nlp(text)\n",
    "# apply_extraction(doc, nlp)\n"
   ]
  },
  {
   "cell_type": "code",
   "execution_count": 11,
   "id": "e6f8741b-3984-4042-b59d-f183af0f1498",
   "metadata": {},
   "outputs": [],
   "source": [
    "# all_reviews[0], len(all_reviews)"
   ]
  },
  {
   "cell_type": "code",
   "execution_count": 12,
   "id": "f79bb8a8-5814-4133-9394-5b7ff8638a8d",
   "metadata": {},
   "outputs": [
    {
     "data": {
      "text/plain": [
       "['fried rice']"
      ]
     },
     "execution_count": 12,
     "metadata": {},
     "output_type": "execute_result"
    }
   ],
   "source": [
    "nchunks = []\n",
    "for np in nlp(\"The fried rice is amazing here.\").noun_chunks:\n",
    "    nchunks.append(\" \".join([token.text for token in np if not token.is_stop]))\n",
    "nchunks"
   ]
  },
  {
   "cell_type": "code",
   "execution_count": 239,
   "id": "529e13ba-7513-4923-834d-751d618fe16f",
   "metadata": {},
   "outputs": [],
   "source": [
    "def extract_aspects(pairs):\n",
    "    \"\"\"\n",
    "    extract aspects from (aspects, opinion words) tuple\n",
    "    \"\"\"\n",
    "    aspects = list(set([i[0] for i in pairs]))\n",
    "    filtered_aspects = []\n",
    "    for w in aspects:\n",
    "        # remove pronouns from aspects\n",
    "        if nlp(w)[0].pos_ != \"PRON\":\n",
    "            filtered_aspects.append(w)\n",
    "    return filtered_aspects\n",
    "\n",
    "def extract_noun_chunk(review, nlp):\n",
    "    \"\"\"\n",
    "    get noun chunk for review\n",
    "    \"\"\"\n",
    "    nchunks = []\n",
    "    for np in nlp(review).noun_chunks:\n",
    "        nchunks.append(\" \".join([token.text for token in np if not token.is_stop]))\n",
    "    return nchunks\n",
    "\n",
    "def find_noun_phrase(aspects, noun_chunks):\n",
    "    \"\"\"\n",
    "    find corresponding noun phrase for extracted aspect (noun)\n",
    "    \"\"\"\n",
    "    # get noun phrase for the aspects \n",
    "    # new_aspects = []\n",
    "    # for ap in aspects:\n",
    "    #     new = \"\"\n",
    "    #     for nc in noun_chunks:\n",
    "    #         if ap not in nc.split(\" \"):\n",
    "    #             continue\n",
    "    #         else:\n",
    "    #             new = nc\n",
    "    #             break\n",
    "    #     if new:\n",
    "    #         new_aspects.append(new)\n",
    "    #     else:\n",
    "    #         new_aspects.append(ap)\n",
    "        \n",
    "                \n",
    "    # for small sentences, usually the noun phrases are aspects\n",
    "    if not aspects and len(noun_chunks) <= 2:\n",
    "        return [i for i in noun_chunks if i]\n",
    "    # return new_aspects\n",
    "    return aspects"
   ]
  },
  {
   "cell_type": "code",
   "execution_count": 14,
   "id": "f3255055-1c4b-4a29-8de7-81f8ad87a96f",
   "metadata": {},
   "outputs": [
    {
     "data": {
      "text/plain": [
       "[('pieces', 'few'), ('pieces', 'small'), ('meat', 'dark')]"
      ]
     },
     "execution_count": 14,
     "metadata": {},
     "output_type": "execute_result"
    }
   ],
   "source": [
    "# text = \"The tables are crammed way too close, the menu is typical of any Italian restaurant, and the wine list is simply overpriced.\"\n",
    "text = \"We ordered the chicken casserole, but what we got were a few small pieces of chicken, all dark meat and on the bone\"\n",
    "a = extract_aspects(apply_extraction(text, nlp))\n",
    "nc = extract_noun_chunk(text, nlp)\n",
    "\n",
    "a\n",
    "apply_extraction(text, nlp)\n",
    "# , nc, find_noun_phrase(a, nc)"
   ]
  },
  {
   "cell_type": "code",
   "execution_count": 240,
   "id": "a2e50f3d-52bd-45cc-9b22-a522ca38a758",
   "metadata": {},
   "outputs": [],
   "source": [
    "import math\n",
    "from collections import Counter\n",
    "\n",
    "def find_similarity(l1, l2):\n",
    "    c1 = Counter(l1)\n",
    "    c2 = Counter(l2)\n",
    "    \n",
    "    # cosine similarity\n",
    "    terms = set(c1).union(c2)\n",
    "    dotprod = sum(c1.get(k, 0) * c2.get(k, 0) for k in terms)\n",
    "    magA = math.sqrt(sum(c1.get(k, 0)**2 for k in terms))\n",
    "    magB = math.sqrt(sum(c2.get(k, 0)**2 for k in terms))\n",
    "    return dotprod / (magA * magB)"
   ]
  },
  {
   "cell_type": "code",
   "execution_count": 241,
   "id": "34857c08-095b-4ef5-8fe1-0fdd36b1801d",
   "metadata": {},
   "outputs": [
    {
     "name": "stderr",
     "output_type": "stream",
     "text": [
      "100%|█████████████████████████████████████████████| 40/40 [00:08<00:00,  4.83it/s]\n"
     ]
    }
   ],
   "source": [
    "for data in tqdm(all_reviews):\n",
    "    extracted_aspects = extract_aspects(apply_extraction(data[\"review\"], nlp))\n",
    "    noun_chunks = extract_noun_chunk(data[\"review\"], nlp)\n",
    "    data[\"extracted_aspects\"] = find_noun_phrase(extracted_aspects, noun_chunks)\n",
    "    try:\n",
    "        data[\"similarity\"] = find_similarity(data[\"actual_aspects\"], data[\"extracted_aspects\"])\n",
    "    except ZeroDivisionError:\n",
    "        data[\"similarity\"] = 0\n",
    "    if data[\"similarity\"] >=0.8:\n",
    "        data[\"check\"] = True\n",
    "    else:\n",
    "        data[\"check\"] = False"
   ]
  },
  {
   "cell_type": "code",
   "execution_count": 17,
   "id": "0ce2319f-8d22-4d30-9fc7-23bf44346e92",
   "metadata": {},
   "outputs": [
    {
     "data": {
      "text/plain": [
       "{'review': 'But the staff was so horrible to us.',\n",
       " 'actual_aspects': ['staff'],\n",
       " 'extracted_aspects': ['staff'],\n",
       " 'similarity': 1.0,\n",
       " 'check': True}"
      ]
     },
     "execution_count": 17,
     "metadata": {},
     "output_type": "execute_result"
    }
   ],
   "source": [
    "all_reviews[0]"
   ]
  },
  {
   "cell_type": "code",
   "execution_count": 242,
   "id": "94e497e4-314b-4148-88a8-5f8a86c76580",
   "metadata": {},
   "outputs": [],
   "source": [
    "def compute_precision(reviews):\n",
    "    TP = 0\n",
    "    FP = 0 \n",
    "    FN = 0\n",
    "    TN = 0\n",
    "    for data in reviews:\n",
    "        # extracted\n",
    "        for word in data[\"extracted_aspects\"]:\n",
    "            # and are actual aspects\n",
    "            if word in data[\"actual_aspects\"]:\n",
    "                TP += 1\n",
    "            # not actual aspects\n",
    "            if word not in data[\"actual_aspects\"]:\n",
    "                FP += 1\n",
    "        # not extracted - but are aspects\n",
    "        for word in data[\"actual_aspects\"]:\n",
    "            if word not in data[\"extracted_aspects\"]:\n",
    "                FN += 1\n",
    "    \n",
    "    precision = TP/(TP+FP)\n",
    "    recall = TP/(TP+FN)\n",
    "    f1 = 2 * (precision * recall) / (precision + recall)\n",
    "    return precision, recall, f1"
   ]
  },
  {
   "cell_type": "code",
   "execution_count": 243,
   "id": "42649864-4ae2-4870-9e51-757569844494",
   "metadata": {},
   "outputs": [
    {
     "data": {
      "text/plain": [
       "(0.3695652173913043, 0.3469387755102041, 0.3578947368421052)"
      ]
     },
     "execution_count": 243,
     "metadata": {},
     "output_type": "execute_result"
    }
   ],
   "source": [
    "precision, recall, f1 = compute_precision(all_reviews)\n",
    "precision, recall, f1"
   ]
  },
  {
   "cell_type": "code",
   "execution_count": 244,
   "id": "a00f5f1e-9e5c-408d-9332-ce2d648ef9eb",
   "metadata": {},
   "outputs": [],
   "source": [
    "pd.DataFrame(all_reviews).to_csv(\"output/extracted_laptop_aspects_v0.csv\")"
   ]
  },
  {
   "cell_type": "code",
   "execution_count": 245,
   "id": "4979d198-ac66-4b11-9f2a-c1647e571b32",
   "metadata": {},
   "outputs": [
    {
     "data": {
      "text/plain": [
       "46"
      ]
     },
     "execution_count": 245,
     "metadata": {},
     "output_type": "execute_result"
    }
   ],
   "source": [
    "aspects=[i for a in all_reviews for i in a[\"extracted_aspects\"]]\n",
    "len(aspects)"
   ]
  },
  {
   "cell_type": "markdown",
   "id": "efbc190e-257e-4077-b1b2-1ef389e5de8b",
   "metadata": {},
   "source": [
    "#### Clustering the extracted aspects"
   ]
  },
  {
   "cell_type": "code",
   "execution_count": 246,
   "id": "a65bef23-0a96-4db2-a7b4-f734572824e2",
   "metadata": {},
   "outputs": [],
   "source": [
    "import gensim\n",
    "from sklearn.manifold import TSNE\n",
    "\n",
    "\n",
    "def find_optimal_num_cluster(aspect_vectors):\n",
    "    num_clusters = range(2,7)\n",
    "    kmeans = [KMeans(n_clusters=i, max_iter=200) for i in num_clusters]\n",
    "    # try elbow method to get num clusters\n",
    "    # score = [kmeans[i].fit(aspect_vectors).score(aspect_vectors) for i in range(len(kmeans))]\n",
    "    # score = [i*-1 for i in score]\n",
    "    # plt.plot(num_clusters, score)\n",
    "    # plt.show()\n",
    "    \n",
    "    print(kmeans)\n",
    "    # try silhouete score to get optimal num of clusters\n",
    "    silhouette_score = [metrics.silhouette_score(aspect_vectors, kmeans[i].fit(aspect_vectors).labels_, metric='euclidean') for i in range(len(kmeans))]\n",
    "    print(\"sil score:\", silhouette_score)\n",
    "    # higher silhouete score means denser and better clusters\n",
    "    best_silhouette_score = 0\n",
    "    best_num_cluster = 1\n",
    "    for s in silhouette_score:\n",
    "        if s > best_silhouette_score:\n",
    "            best_silhouette_score = s\n",
    "            best_num_cluster += 1\n",
    "    return best_num_cluster, best_silhouette_score \n",
    "    \n",
    "def cluster_aspects(aspects):\n",
    "    aspect_list = [[word] for word in aspects]\n",
    "    word2vec_model = gensim.models.Word2Vec(aspect_list, min_count=1)\n",
    "    aspect_vectors = [word2vec_model.wv[word] for word in word2vec_model.wv.index_to_key]\n",
    "\n",
    "    # find optimal cluster\n",
    "    num_clusters, best_silhouette_score = find_optimal_num_cluster(aspect_vectors)\n",
    "    print(f\"Optimal num of clusters: {num_clusters}, best silhouette score: {best_silhouette_score}\")\n",
    "    \n",
    "    num_clusters = 5\n",
    "    kmeans = KMeans(n_clusters=num_clusters, init=\"k-means++\")\n",
    "    kmeans.fit(aspect_vectors)\n",
    "    labels = kmeans.labels_\n",
    "    centroids = kmeans.cluster_centers_\n",
    "    print(\"score: \", kmeans.score(aspect_vectors))\n",
    "    silhouette_score = metrics.silhouette_score(aspect_vectors, labels, metric='euclidean')\n",
    "    print(\"silhouete score: \", silhouette_score)\n",
    "    for i in range(num_clusters):\n",
    "        tokens_per_cluster = \"\"\n",
    "        top_5_words = word2vec_model.wv.most_similar(positive=[kmeans.cluster_centers_[i]], topn=5)\n",
    "        for t in top_5_words:\n",
    "            tokens_per_cluster += f\"{t[0]} \"\n",
    "        print(f\"Cluster {i}: {tokens_per_cluster}\")\n",
    "    return aspect_vectors, labels\n",
    "\n",
    "def visualize_clusters(aspects_words, aspect_vectors, labels):\n",
    "    # tsne = TSNE(n_components=2, random_state=0)\n",
    "    # val = tsne.fit_transform(np.array(aspect_vectors))\n",
    "    \n",
    "    # using PCA to reduce dimension of aspect word vectors\n",
    "    pca = PCA(n_components=2)\n",
    "    plot_points = pca.fit_transform(np.array(aspect_vectors))\n",
    "    x_axis = [i[0] for i in plot_points]\n",
    "    y_axis = [i[1] for i in plot_points]\n",
    "    colors = [\"r\", \"b\", \"c\", \"y\", \"m\"]\n",
    "    fig, ax = plt.subplots(figsize=(20, 10))\n",
    "    ax.scatter(x_axis, y_axis, c=[colors[i] for i in labels])\n",
    "    # plt.scatter(val[:, 0], val[:, 1], c=labels, cmap=\"rainbow\")\n",
    "    \n",
    "    for i, txt in enumerate(aspects_words):\n",
    "        ax.annotate(txt, (x_axis[i], y_axis[i]))\n",
    "    # return val\n",
    "    \n",
    "def get_top_words_from_cluster(unique_aspects, labels):\n",
    "    aspects_to_labels = dict(zip(unique_aspects, labels))\n",
    "    labels_w_aspects = defaultdict()\n",
    "    for a, l in aspects_to_labels.items():\n",
    "        if l in labels_w_aspects.keys():\n",
    "            labels_w_aspects[l].append(a)\n",
    "        else:\n",
    "            labels_w_aspects[l] = [a]\n",
    "    return aspects_to_labels, labels_w_aspects"
   ]
  },
  {
   "cell_type": "code",
   "execution_count": 247,
   "id": "47447d9f-c3d4-4c28-8bd7-a6eeadd41342",
   "metadata": {},
   "outputs": [],
   "source": [
    "# print(\"Most representative terms per cluster (based on centroids):\")\n",
    "# for i in range(50):\n",
    "#     tokens_per_cluster = \"\"\n",
    "#     most_representative = word2vec_model.wv.most_similar(positive=[kmeans.cluster_centers_[i]], topn=5)\n",
    "#     for t in most_representative:\n",
    "#         tokens_per_cluster += f\"{t[0]} \"\n",
    "#     print(f\"Cluster {i}: {tokens_per_cluster}\")\n"
   ]
  },
  {
   "cell_type": "code",
   "execution_count": 248,
   "id": "e852b612-1936-4d15-9a33-35879ca7224d",
   "metadata": {},
   "outputs": [],
   "source": [
    "# !pip install textblob"
   ]
  },
  {
   "cell_type": "code",
   "execution_count": 249,
   "id": "84d9e710-f9e8-49f7-a3d8-122592a4b848",
   "metadata": {},
   "outputs": [],
   "source": [
    "def clean_aspects(aspects):\n",
    "    nlp = spacy.load(\"en_core_web_lg\")\n",
    "    lemmatizer = nlp.get_pipe(\"lemmatizer\")\n",
    "    \n",
    "    new_aspects = []\n",
    "    for word in aspects:\n",
    "        word = lemmatizer.lemmatize(nlp(word.lower())[0])\n",
    "        new_aspects.append(word[0])\n",
    "    return list(set(new_aspects))"
   ]
  },
  {
   "cell_type": "code",
   "execution_count": 250,
   "id": "2165a364-6e62-4b89-b36d-de9e7b7a5ec7",
   "metadata": {},
   "outputs": [
    {
     "name": "stdout",
     "output_type": "stream",
     "text": [
      "[KMeans(max_iter=200, n_clusters=2), KMeans(max_iter=200, n_clusters=3), KMeans(max_iter=200, n_clusters=4), KMeans(max_iter=200, n_clusters=5), KMeans(max_iter=200, n_clusters=6)]\n",
      "sil score: [0.020938989, 0.014869382, 0.012461058, 0.016980322, 0.015246499]\n",
      "Optimal num of clusters: 2, best silhouette score: 0.020938988775014877\n",
      "score:  -0.09756540116419189\n",
      "silhouete score:  0.01617052\n",
      "Cluster 0: service cost aluminum game glass \n",
      "Cluster 1: twin screen wifi feature software \n",
      "Cluster 2: keyboard internet update boot garageband \n",
      "Cluster 3: mouse driver background program gaming \n",
      "Cluster 4: wireless battery design price tech \n"
     ]
    },
    {
     "data": {
      "image/png": "[encoded data removed]",
      "text/plain": [
       "<Figure size 2000x1000 with 1 Axes>"
      ]
     },
     "metadata": {},
     "output_type": "display_data"
    }
   ],
   "source": [
    "a_aspects=[i for a in all_reviews for i in a[\"actual_aspects\"]]\n",
    "unique_aspects = clean_aspects(a_aspects)\n",
    "a_vec, labels = cluster_aspects(unique_aspects)\n",
    "visualize_clusters(unique_aspects, a_vec, labels)\n",
    "a_l, l_a = get_top_words_from_cluster(unique_aspects, labels)"
   ]
  },
  {
   "cell_type": "code",
   "execution_count": 251,
   "id": "bde61459-5216-4eed-ad7e-13f8e00406da",
   "metadata": {},
   "outputs": [
    {
     "name": "stdout",
     "output_type": "stream",
     "text": [
      "[KMeans(max_iter=200, n_clusters=2), KMeans(max_iter=200, n_clusters=3), KMeans(max_iter=200, n_clusters=4), KMeans(max_iter=200, n_clusters=5), KMeans(max_iter=200, n_clusters=6)]\n",
      "sil score: [0.020895408, 0.015707284, 0.013300118, 0.011134547, 0.012435065]\n",
      "Optimal num of clusters: 2, best silhouette score: 0.02089540846645832\n",
      "score:  -0.10777790442245613\n",
      "silhouete score:  0.017668562\n",
      "Cluster 0: building price issue laptop function \n",
      "Cluster 1: color service pro card sister \n",
      "Cluster 2: machine staff support book warranty \n",
      "Cluster 3: battery aluminum button laptop issue \n",
      "Cluster 4: software design speed opposite screen \n"
     ]
    },
    {
     "data": {
      "image/png": "[encoded data removed]",
      "text/plain": [
       "<Figure size 2000x1000 with 1 Axes>"
      ]
     },
     "metadata": {},
     "output_type": "display_data"
    }
   ],
   "source": [
    "a_aspects=[i for a in all_reviews for i in a[\"extracted_aspects\"]]\n",
    "unique_aspects = clean_aspects(a_aspects)\n",
    "a_vec, labels = cluster_aspects(unique_aspects)\n",
    "visualize_clusters(unique_aspects, a_vec, labels)\n",
    "a_l, l_a = get_top_words_from_cluster(unique_aspects, labels)"
   ]
  },
  {
   "cell_type": "code",
   "execution_count": 123,
   "id": "f6dd50c6-ade3-4073-90d9-a32d5038dba9",
   "metadata": {},
   "outputs": [],
   "source": [
    "# # map aspects with their cluster labels\n",
    "# map_aspects = dict(zip(aspects, labels))\n",
    "\n",
    "# # get all words of a cluster in one\n",
    "# results = defaultdict()\n",
    "# for k, val in map_aspects.items():\n",
    "#     if val in results.keys():\n",
    "#         results[val].append(k)\n",
    "#     else:\n",
    "#         results[val] = [k]\n",
    "# map_aspects"
   ]
  },
  {
   "cell_type": "code",
   "execution_count": 104,
   "id": "aa717c35-cf6b-4646-9e58-3bf801142db7",
   "metadata": {},
   "outputs": [
    {
     "data": {
      "text/plain": [
       "(797, 100)"
      ]
     },
     "execution_count": 104,
     "metadata": {},
     "output_type": "execute_result"
    }
   ],
   "source": [
    "len(aspect_vectors), len(aspect_vectors[0])"
   ]
  },
  {
   "cell_type": "code",
   "execution_count": 29,
   "id": "f5f25147-57dc-4ddf-9620-3b3c235e2138",
   "metadata": {},
   "outputs": [],
   "source": [
    "from collections import defaultdict\n",
    "\n",
    "aspects_map = defaultdict(int)\n",
    "for asp in aspects:\n",
    "    aspects_map[asp] +=1"
   ]
  },
  {
   "cell_type": "code",
   "execution_count": 22,
   "id": "e991cc97-dc66-41cf-b90d-aec7c325ff4f",
   "metadata": {},
   "outputs": [],
   "source": [
    "# # get aspect embeddings using word2vec\n",
    "# from gensim.models import Word2Vec\n",
    "\n",
    "# model = Word2Vec(aspects, vector_size=100)\n",
    "# words = model.wv\n",
    "\n",
    "# aspect vectors using spacy\n",
    "asp_vectors = []\n",
    "for a in aspects:\n",
    "    token = nlp(a)\n",
    "    asp_vectors.append(token.vector)"
   ]
  },
  {
   "cell_type": "code",
   "execution_count": 23,
   "id": "fef5aaf1-a063-489a-92ae-11d5c4f5011f",
   "metadata": {},
   "outputs": [],
   "source": [
    "# clustering \n",
    "# need to convert the aspects into their vectors/numerical forms\n",
    "NUM_CLUSTERS=4\n",
    "kmeans = cluster.KMeans(n_clusters=NUM_CLUSTERS)\n",
    "kmeans.fit(asp_vectors)\n",
    "labels = kmeans.labels_"
   ]
  },
  {
   "cell_type": "code",
   "execution_count": 24,
   "id": "2ac93190-95e3-435c-aac2-b931d12bc370",
   "metadata": {},
   "outputs": [],
   "source": [
    "# map aspects with their cluster labels\n",
    "map_aspects = dict(zip(aspects, labels))\n",
    "\n",
    "# get all words of a cluster in one\n",
    "results = defaultdict()\n",
    "for k, val in map_aspects.items():\n",
    "    if val in results.keys():\n",
    "        results[val].append(k)\n",
    "    else:\n",
    "        results[val] = [k]"
   ]
  },
  {
   "cell_type": "code",
   "execution_count": 37,
   "id": "6a148c04-f721-452e-82b3-29389851da2c",
   "metadata": {},
   "outputs": [],
   "source": [
    "# map_aspects"
   ]
  },
  {
   "cell_type": "code",
   "execution_count": 38,
   "id": "fe135328-a5ac-4525-bd23-5be6efea8701",
   "metadata": {},
   "outputs": [],
   "source": [
    "cluster_map = defaultdict()\n",
    "cluster_to_asp_map = defaultdict()\n",
    "for i in range(NUM_CLUSTERS):\n",
    "    cluster_nouns = [k for k, v in map_aspects.items() if v==i]\n",
    "    freq_map = {k:v for k,v in aspects_map.items() if k in cluster_nouns}\n",
    "    freq_map = sorted(freq_map.items(), key=lambda x:x[1], reverse=True)\n",
    "    cluster_map[i] = freq_map[0][0]\n",
    "    cluster_to_asp_map[i] = cluster_nouns"
   ]
  },
  {
   "cell_type": "code",
   "execution_count": 40,
   "id": "a85af184-3daf-4665-9970-ba1a490bdaf5",
   "metadata": {},
   "outputs": [
    {
     "name": "stdout",
     "output_type": "stream",
     "text": [
      "defaultdict(None, {0: 'service', 1: 'food', 2: 'restaurant', 3: 'place'})\n"
     ]
    }
   ],
   "source": [
    "# print(cluster_to_asp_map)\n",
    "print(cluster_map)"
   ]
  },
  {
   "cell_type": "code",
   "execution_count": null,
   "id": "8a6ad679-4cbc-4dbb-a9b6-2682e21587cd",
   "metadata": {},
   "outputs": [],
   "source": []
  },
  {
   "cell_type": "code",
   "execution_count": null,
   "id": "fa176370-52d9-4fb0-8167-f639f77bbd52",
   "metadata": {},
   "outputs": [],
   "source": []
  },
  {
   "cell_type": "code",
   "execution_count": 19,
   "id": "3560513c-87d0-4195-95c4-b0c7e98d0495",
   "metadata": {},
   "outputs": [],
   "source": [
    "# import sklearn\n",
    "# from sklearn.metrics import precision_score, recall_score, f1_score\n",
    "\n",
    "# y_test=data[\"actual_aspects\"]\n",
    "# y_pred=data[\"extracted_aspects\"]\n",
    "# precision = precision_score(y_test, y_pred)\n",
    "# recall = recall_score(y_test, y_pred)\n",
    "# f1_score = f1_score(y_test, y_pred)"
   ]
  },
  {
   "cell_type": "code",
   "execution_count": 113,
   "id": "87192033-ae4b-4417-8da8-ae94779ee3d7",
   "metadata": {},
   "outputs": [],
   "source": [
    "pd.DataFrame(all_reviews).to_csv(\"output/extracted_aspects_v3.csv\")"
   ]
  },
  {
   "cell_type": "code",
   "execution_count": 33,
   "id": "c5e8a21d-ab1a-4768-b3c2-7b7c257049ec",
   "metadata": {},
   "outputs": [],
   "source": [
    "d = open(\"datasets/laptops_reviews/laptop_test_unsupervisedABSA.txt\", \"r+\")"
   ]
  },
  {
   "cell_type": "code",
   "execution_count": 87,
   "id": "a3aa8769-bd08-4ed5-ac64-77ac7341afe6",
   "metadata": {},
   "outputs": [],
   "source": [
    "with open(\"datasets/laptops_reviews/laptop_test_unsupervisedABSA.txt\") as f:\n",
    "    lines = f.readlines()\n",
    "    f.close()\n",
    "\n",
    "with open(\"datasets/laptops_reviews/laptop_test_unsupervisedABSA_v1.txt\", \"w\") as f:\n",
    "    for line in lines:\n",
    "        f.write(\" \".join(line.strip().split()[3:]))\n",
    "        f.write(\"\\n\")\n",
    "    f.close()"
   ]
  },
  {
   "cell_type": "code",
   "execution_count": null,
   "id": "fb1899c7-d461-459c-b45d-c145272dae6c",
   "metadata": {},
   "outputs": [],
   "source": []
  },
  {
   "cell_type": "code",
   "execution_count": null,
   "id": "8dc6488d-dde7-4e3d-8caf-eb34018ced06",
   "metadata": {},
   "outputs": [],
   "source": []
  },
  {
   "cell_type": "code",
   "execution_count": null,
   "id": "dd40aeb4-50c1-481c-8a64-0b1d88c598ac",
   "metadata": {},
   "outputs": [],
   "source": []
  },
  {
   "cell_type": "markdown",
   "id": "2f7bf34d-4c5b-4d44-87a3-9c5ff029416e",
   "metadata": {},
   "source": [
    "Check how many of them are correct if we use the rules given"
   ]
  },
  {
   "cell_type": "code",
   "execution_count": 16,
   "id": "8776fc5c-5f22-422a-8237-7c0dfe7b70d5",
   "metadata": {},
   "outputs": [],
   "source": [
    "# import os\n",
    "\n",
    "# os.makedirs(\"output/\")"
   ]
  },
  {
   "cell_type": "code",
   "execution_count": 22,
   "id": "e30e3477-c4ae-4bac-ae1f-dac907669dfc",
   "metadata": {},
   "outputs": [
    {
     "data": {
      "text/html": [
       "<div>\n",
       "<style scoped>\n",
       "    .dataframe tbody tr th:only-of-type {\n",
       "        vertical-align: middle;\n",
       "    }\n",
       "\n",
       "    .dataframe tbody tr th {\n",
       "        vertical-align: top;\n",
       "    }\n",
       "\n",
       "    .dataframe thead th {\n",
       "        text-align: right;\n",
       "    }\n",
       "</style>\n",
       "<table border=\"1\" class=\"dataframe\">\n",
       "  <thead>\n",
       "    <tr style=\"text-align: right;\">\n",
       "      <th></th>\n",
       "      <th>id</th>\n",
       "      <th>text</th>\n",
       "      <th>original_aspects</th>\n",
       "    </tr>\n",
       "  </thead>\n",
       "  <tbody>\n",
       "    <tr>\n",
       "      <th>0</th>\n",
       "      <td>3121</td>\n",
       "      <td>But the staff was so horrible to us.</td>\n",
       "      <td>staff</td>\n",
       "    </tr>\n",
       "    <tr>\n",
       "      <th>1</th>\n",
       "      <td>2777</td>\n",
       "      <td>To be completely fair, the only redeeming fact...</td>\n",
       "      <td>food</td>\n",
       "    </tr>\n",
       "    <tr>\n",
       "      <th>2</th>\n",
       "      <td>1634</td>\n",
       "      <td>The food is uniformly exceptional, with a very...</td>\n",
       "      <td>food</td>\n",
       "    </tr>\n",
       "    <tr>\n",
       "      <th>3</th>\n",
       "      <td>1634</td>\n",
       "      <td>The food is uniformly exceptional, with a very...</td>\n",
       "      <td>kitchen</td>\n",
       "    </tr>\n",
       "    <tr>\n",
       "      <th>4</th>\n",
       "      <td>1634</td>\n",
       "      <td>The food is uniformly exceptional, with a very...</td>\n",
       "      <td>menu</td>\n",
       "    </tr>\n",
       "  </tbody>\n",
       "</table>\n",
       "</div>"
      ],
      "text/plain": [
       "     id                                               text original_aspects\n",
       "0  3121               But the staff was so horrible to us.            staff\n",
       "1  2777  To be completely fair, the only redeeming fact...             food\n",
       "2  1634  The food is uniformly exceptional, with a very...             food\n",
       "3  1634  The food is uniformly exceptional, with a very...          kitchen\n",
       "4  1634  The food is uniformly exceptional, with a very...             menu"
      ]
     },
     "execution_count": 22,
     "metadata": {},
     "output_type": "execute_result"
    }
   ],
   "source": [
    "reviews.head()"
   ]
  },
  {
   "cell_type": "code",
   "execution_count": 9,
   "id": "52e61ff8-ae9a-490e-8a8e-85578a13bc6e",
   "metadata": {},
   "outputs": [],
   "source": [
    "from sklearn import cluster\n",
    "from collections import defaultdict"
   ]
  },
  {
   "cell_type": "code",
   "execution_count": 10,
   "id": "fef4c701-f5f2-44dd-a568-59fa3922ef6c",
   "metadata": {},
   "outputs": [],
   "source": [
    "NUM_CLUSTERS = 4\n",
    "aspects = []\n",
    "for review in review_decomp:\n",
    "    aspect_pairs = review[\"aspect_pairs\"]\n",
    "    for noun, adj in aspect_pairs:\n",
    "        # print(noun, adj)\n",
    "        aspects.append(noun)\n",
    "        \n",
    "unique_aspects = list(set(aspects))"
   ]
  },
  {
   "cell_type": "code",
   "execution_count": 11,
   "id": "5ce2271c-389a-4f2a-a0eb-1fe20e80b039",
   "metadata": {},
   "outputs": [
    {
     "data": {
      "text/plain": [
       "64"
      ]
     },
     "execution_count": 11,
     "metadata": {},
     "output_type": "execute_result"
    }
   ],
   "source": [
    "len(unique_aspects)"
   ]
  },
  {
   "cell_type": "code",
   "execution_count": 20,
   "id": "1d2a9d16-f8fb-4d7c-a736-9730a70f205a",
   "metadata": {},
   "outputs": [],
   "source": [
    "aspects_map = defaultdict(int)\n",
    "for asp in aspects:\n",
    "    aspects_map[asp] += 1"
   ]
  },
  {
   "cell_type": "code",
   "execution_count": 24,
   "id": "6f8a8269-34a2-4383-8254-2dd9087e0664",
   "metadata": {},
   "outputs": [
    {
     "name": "stdout",
     "output_type": "stream",
     "text": [
      "{'benches': 2, 'food': 0, 'questions': 2, 'taste': 0, 'prices': 2, 'place': 2, 'concept': 2, 'setting': 2, 'spot': 0, 'rice': 0, 'above': 2, 'dinner': 0, 'selection': 2, 'dishes': 0, 'experience': 2, 'you': 3, 'decoration': 2, 'Faan': 0, 'I': 3, 'He': 1, 'variety': 2, 'mussels': 0, 'staff': 2, 'which': 2, 'lovers': 0, 'bagels': 0, 'decor': 0, 'choices': 2, 'desert': 0, 'we': 3, 'vibe': 0, 'money': 2, 'size': 2, 'quantity': 2, 'menu': 0, 'perks': 0, 'wine': 0, 'floor': 2, 'pizza': 0, 'broth': 0, 'deficiencies': 2, 'factor': 2, 'people': 2, 'list': 2, 'favorite': 0, 'restaurants': 0, 'price': 2, 'me': 3, 'owner': 0, 'all': 2, 'Bagels': 0, 'They': 2, 'service': 2, 'design': 2, 'meal': 0, 'stomach': 0, 'waiters': 0, 'seats': 2, 'kitchen': 0, 'atmosphere': 2, 'dressing': 2, 'temperatures': 2, 'It': 2, 'texture': 2}\n"
     ]
    }
   ],
   "source": [
    "asp_vectors = []\n",
    "for aspect in unique_aspects:\n",
    "    token = nlp(aspect)\n",
    "    asp_vectors.append(token.vector)\n",
    "    \n",
    "kmeans = cluster.KMeans(n_clusters=NUM_CLUSTERS)\n",
    "kmeans.fit(asp_vectors)\n",
    "labels = kmeans.labels_\n",
    "asp_to_cluster_map = dict(zip(unique_aspects, labels))\n",
    "print(asp_to_cluster_map)"
   ]
  },
  {
   "cell_type": "code",
   "execution_count": 28,
   "id": "43f62ded-8bbc-4f2a-b73e-b6c5c8f07f83",
   "metadata": {},
   "outputs": [],
   "source": [
    "cluster_map = defaultdict()\n",
    "cluster_to_asp_map = defaultdict()\n",
    "for i in range(NUM_CLUSTERS):\n",
    "    cluster_nouns = [k for k, v in asp_to_cluster_map.items() if v==i]\n",
    "    freq_map = {k:v for k, v in aspects_map.items() if k in cluster_nouns}\n",
    "    freq_map = sorted(freq_map.items(), key=lambda x: x[1], reverse=True)\n",
    "    cluster_map[i] = freq_map[0][0]\n",
    "    cluster_to_asp_map[i] = cluster_nouns"
   ]
  },
  {
   "cell_type": "code",
   "execution_count": 30,
   "id": "0471ae3d-e38e-4ff6-8cd2-b22bed05b3b4",
   "metadata": {},
   "outputs": [
    {
     "data": {
      "text/plain": [
       "defaultdict(None,\n",
       "            {0: ['food',\n",
       "              'taste',\n",
       "              'spot',\n",
       "              'rice',\n",
       "              'dinner',\n",
       "              'dishes',\n",
       "              'Faan',\n",
       "              'mussels',\n",
       "              'lovers',\n",
       "              'bagels',\n",
       "              'decor',\n",
       "              'desert',\n",
       "              'vibe',\n",
       "              'menu',\n",
       "              'perks',\n",
       "              'wine',\n",
       "              'pizza',\n",
       "              'broth',\n",
       "              'favorite',\n",
       "              'restaurants',\n",
       "              'owner',\n",
       "              'Bagels',\n",
       "              'meal',\n",
       "              'stomach',\n",
       "              'waiters',\n",
       "              'kitchen'],\n",
       "             1: ['He'],\n",
       "             2: ['benches',\n",
       "              'questions',\n",
       "              'prices',\n",
       "              'place',\n",
       "              'concept',\n",
       "              'setting',\n",
       "              'above',\n",
       "              'selection',\n",
       "              'experience',\n",
       "              'decoration',\n",
       "              'variety',\n",
       "              'staff',\n",
       "              'which',\n",
       "              'choices',\n",
       "              'money',\n",
       "              'size',\n",
       "              'quantity',\n",
       "              'floor',\n",
       "              'deficiencies',\n",
       "              'factor',\n",
       "              'people',\n",
       "              'list',\n",
       "              'price',\n",
       "              'all',\n",
       "              'They',\n",
       "              'service',\n",
       "              'design',\n",
       "              'seats',\n",
       "              'atmosphere',\n",
       "              'dressing',\n",
       "              'temperatures',\n",
       "              'It',\n",
       "              'texture'],\n",
       "             3: ['you', 'I', 'we', 'me']})"
      ]
     },
     "execution_count": 30,
     "metadata": {},
     "output_type": "execute_result"
    }
   ],
   "source": [
    "cluster_to_asp_map"
   ]
  },
  {
   "cell_type": "code",
   "execution_count": null,
   "id": "62945f07-2760-4708-af7f-b3faeaf7e10f",
   "metadata": {},
   "outputs": [],
   "source": []
  }
 ],
 "metadata": {
  "kernelspec": {
   "display_name": "Python 3 (ipykernel)",
   "language": "python",
   "name": "python3"
  },
  "language_info": {
   "codemirror_mode": {
    "name": "ipython",
    "version": 3
   },
   "file_extension": ".py",
   "mimetype": "text/x-python",
   "name": "python",
   "nbconvert_exporter": "python",
   "pygments_lexer": "ipython3",
   "version": "3.8.2"
  }
 },
 "nbformat": 4,
 "nbformat_minor": 5
}
